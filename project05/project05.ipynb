{
 "cells": [
  {
   "cell_type": "code",
   "execution_count": 20,
   "metadata": {
    "_cell_guid": "b1076dfc-b9ad-4769-8c92-a6c4dae69d19",
    "_uuid": "8f2839f25d086af736a60e9eeb907d3b93b6e0e5",
    "execution": {
     "iopub.execute_input": "2021-09-15T19:04:26.202164Z",
     "iopub.status.busy": "2021-09-15T19:04:26.201753Z",
     "iopub.status.idle": "2021-09-15T19:04:26.212506Z",
     "shell.execute_reply": "2021-09-15T19:04:26.211641Z",
     "shell.execute_reply.started": "2021-09-15T19:04:26.202135Z"
    }
   },
   "outputs": [
    {
     "name": "stdout",
     "output_type": "stream",
     "text": [
      "/kaggle/input/sf-dst-scoring/sample_submission.csv\n",
      "/kaggle/input/sf-dst-scoring/train.csv\n",
      "/kaggle/input/sf-dst-scoring/test.csv\n"
     ]
    }
   ],
   "source": [
    "# This Python 3 environment comes with many helpful analytics libraries installed\n",
    "# It is defined by the kaggle/python Docker image: https://github.com/kaggle/docker-python\n",
    "# For example, here's several helpful packages to load\n",
    "\n",
    "import numpy as np # linear algebra\n",
    "import pandas as pd # data processing, CSV file I/O (e.g. pd.read_csv)\n",
    "\n",
    "# Input data files are available in the read-only \"../input/\" directory\n",
    "# For example, running this (by clicking run or pressing Shift+Enter) will list all files under the input directory\n",
    "\n",
    "import os\n",
    "for dirname, _, filenames in os.walk('/kaggle/input'):\n",
    "    for filename in filenames:\n",
    "        print(os.path.join(dirname, filename))\n",
    "\n",
    "# You can write up to 20GB to the current directory (/kaggle/working/) that gets preserved as output when you create a version using \"Save & Run All\" \n",
    "# You can also write temporary files to /kaggle/temp/, but they won't be saved outside of the current session"
   ]
  },
  {
   "cell_type": "markdown",
   "metadata": {},
   "source": [
    "импортируем необходимые библиотеки"
   ]
  },
  {
   "cell_type": "code",
   "execution_count": 149,
   "metadata": {
    "execution": {
     "iopub.execute_input": "2021-09-15T19:04:32.989615Z",
     "iopub.status.busy": "2021-09-15T19:04:32.989145Z",
     "iopub.status.idle": "2021-09-15T19:04:32.996294Z",
     "shell.execute_reply": "2021-09-15T19:04:32.995262Z",
     "shell.execute_reply.started": "2021-09-15T19:04:32.989573Z"
    }
   },
   "outputs": [],
   "source": [
    "from pandas import Series\n",
    "import pandas as pd\n",
    "import numpy as np\n",
    "\n",
    "import matplotlib.pyplot as plt\n",
    "import seaborn as sns\n",
    "\n",
    "from sklearn.feature_selection import f_classif, mutual_info_classif\n",
    "from sklearn.preprocessing import LabelEncoder, OneHotEncoder, StandardScaler\n",
    "\n",
    "from sklearn.model_selection import train_test_split\n",
    "from sklearn.linear_model import LogisticRegression\n",
    "from sklearn.tree import DecisionTreeClassifier\n",
    "\n",
    "from sklearn.metrics import confusion_matrix\n",
    "from sklearn.metrics import accuracy_score, precision_score, recall_score, f1_score, roc_curve, roc_auc_score, mean_squared_error"
   ]
  },
  {
   "cell_type": "code",
   "execution_count": 112,
   "metadata": {
    "execution": {
     "iopub.execute_input": "2021-09-15T21:35:58.597772Z",
     "iopub.status.busy": "2021-09-15T21:35:58.597443Z",
     "iopub.status.idle": "2021-09-15T21:35:58.765062Z",
     "shell.execute_reply": "2021-09-15T21:35:58.764071Z",
     "shell.execute_reply.started": "2021-09-15T21:35:58.597740Z"
    }
   },
   "outputs": [],
   "source": [
    "#загружаем датасеты\n",
    "# data = '/kaggle/input/sf-dst-scoring/'\n",
    "data_train = pd.read_csv('train_bank.csv')\n",
    "data_test = pd.read_csv('test.csv')\n",
    "sample_submission = pd.read_csv('sample_submission.csv')"
   ]
  },
  {
   "cell_type": "code",
   "execution_count": 6,
   "metadata": {
    "execution": {
     "iopub.execute_input": "2021-09-15T21:36:25.276583Z",
     "iopub.status.busy": "2021-09-15T21:36:25.276266Z",
     "iopub.status.idle": "2021-09-15T21:36:25.313040Z",
     "shell.execute_reply": "2021-09-15T21:36:25.312009Z",
     "shell.execute_reply.started": "2021-09-15T21:36:25.276545Z"
    }
   },
   "outputs": [
    {
     "name": "stdout",
     "output_type": "stream",
     "text": [
      "<class 'pandas.core.frame.DataFrame'>\n",
      "RangeIndex: 73799 entries, 0 to 73798\n",
      "Data columns (total 19 columns):\n",
      " #   Column            Non-Null Count  Dtype  \n",
      "---  ------            --------------  -----  \n",
      " 0   client_id         73799 non-null  int64  \n",
      " 1   app_date          73799 non-null  object \n",
      " 2   education         73492 non-null  object \n",
      " 3   sex               73799 non-null  object \n",
      " 4   age               73799 non-null  int64  \n",
      " 5   car               73799 non-null  object \n",
      " 6   car_type          73799 non-null  object \n",
      " 7   decline_app_cnt   73799 non-null  int64  \n",
      " 8   good_work         73799 non-null  int64  \n",
      " 9   score_bki         73799 non-null  float64\n",
      " 10  bki_request_cnt   73799 non-null  int64  \n",
      " 11  region_rating     73799 non-null  int64  \n",
      " 12  home_address      73799 non-null  int64  \n",
      " 13  work_address      73799 non-null  int64  \n",
      " 14  income            73799 non-null  int64  \n",
      " 15  sna               73799 non-null  int64  \n",
      " 16  first_time        73799 non-null  int64  \n",
      " 17  foreign_passport  73799 non-null  object \n",
      " 18  default           73799 non-null  int64  \n",
      "dtypes: float64(1), int64(12), object(6)\n",
      "memory usage: 10.7+ MB\n"
     ]
    }
   ],
   "source": [
    "data_train.info()"
   ]
  },
  {
   "cell_type": "code",
   "execution_count": 7,
   "metadata": {
    "execution": {
     "iopub.execute_input": "2021-09-15T19:04:40.229870Z",
     "iopub.status.busy": "2021-09-15T19:04:40.229568Z",
     "iopub.status.idle": "2021-09-15T19:04:40.253330Z",
     "shell.execute_reply": "2021-09-15T19:04:40.252507Z",
     "shell.execute_reply.started": "2021-09-15T19:04:40.229837Z"
    }
   },
   "outputs": [
    {
     "name": "stdout",
     "output_type": "stream",
     "text": [
      "<class 'pandas.core.frame.DataFrame'>\n",
      "RangeIndex: 36349 entries, 0 to 36348\n",
      "Data columns (total 18 columns):\n",
      " #   Column            Non-Null Count  Dtype  \n",
      "---  ------            --------------  -----  \n",
      " 0   client_id         36349 non-null  int64  \n",
      " 1   app_date          36349 non-null  object \n",
      " 2   education         36178 non-null  object \n",
      " 3   sex               36349 non-null  object \n",
      " 4   age               36349 non-null  int64  \n",
      " 5   car               36349 non-null  object \n",
      " 6   car_type          36349 non-null  object \n",
      " 7   decline_app_cnt   36349 non-null  int64  \n",
      " 8   good_work         36349 non-null  int64  \n",
      " 9   score_bki         36349 non-null  float64\n",
      " 10  bki_request_cnt   36349 non-null  int64  \n",
      " 11  region_rating     36349 non-null  int64  \n",
      " 12  home_address      36349 non-null  int64  \n",
      " 13  work_address      36349 non-null  int64  \n",
      " 14  income            36349 non-null  int64  \n",
      " 15  sna               36349 non-null  int64  \n",
      " 16  first_time        36349 non-null  int64  \n",
      " 17  foreign_passport  36349 non-null  object \n",
      "dtypes: float64(1), int64(11), object(6)\n",
      "memory usage: 5.0+ MB\n"
     ]
    }
   ],
   "source": [
    "data_test.info()"
   ]
  },
  {
   "cell_type": "code",
   "execution_count": 8,
   "metadata": {
    "execution": {
     "iopub.execute_input": "2021-09-15T19:04:42.054889Z",
     "iopub.status.busy": "2021-09-15T19:04:42.054612Z",
     "iopub.status.idle": "2021-09-15T19:04:42.065826Z",
     "shell.execute_reply": "2021-09-15T19:04:42.064974Z",
     "shell.execute_reply.started": "2021-09-15T19:04:42.054852Z"
    }
   },
   "outputs": [
    {
     "name": "stdout",
     "output_type": "stream",
     "text": [
      "<class 'pandas.core.frame.DataFrame'>\n",
      "RangeIndex: 24354 entries, 0 to 24353\n",
      "Data columns (total 2 columns):\n",
      " #   Column     Non-Null Count  Dtype  \n",
      "---  ------     --------------  -----  \n",
      " 0   client_id  24354 non-null  int64  \n",
      " 1   default    24354 non-null  float64\n",
      "dtypes: float64(1), int64(1)\n",
      "memory usage: 380.7 KB\n"
     ]
    }
   ],
   "source": [
    "sample_submission.info()"
   ]
  },
  {
   "cell_type": "markdown",
   "metadata": {
    "execution": {
     "iopub.execute_input": "2021-09-15T17:43:38.327781Z",
     "iopub.status.busy": "2021-09-15T17:43:38.326832Z",
     "iopub.status.idle": "2021-09-15T17:43:38.334141Z",
     "shell.execute_reply": "2021-09-15T17:43:38.332992Z",
     "shell.execute_reply.started": "2021-09-15T17:43:38.327732Z"
    }
   },
   "source": [
    "как видно из данных, 2 датасета содержат данные с пропусками, и в тестовой, и в тренировочной базе это данные про образование. Рассмотрим их детально"
   ]
  },
  {
   "cell_type": "code",
   "execution_count": 9,
   "metadata": {
    "execution": {
     "iopub.execute_input": "2021-09-15T19:04:44.298581Z",
     "iopub.status.busy": "2021-09-15T19:04:44.298060Z",
     "iopub.status.idle": "2021-09-15T19:04:44.311902Z",
     "shell.execute_reply": "2021-09-15T19:04:44.311101Z",
     "shell.execute_reply.started": "2021-09-15T19:04:44.298534Z"
    }
   },
   "outputs": [
    {
     "data": {
      "text/plain": [
       "SCH    38860\n",
       "GRD    23365\n",
       "UGR     9816\n",
       "PGR     1257\n",
       "ACD      194\n",
       "Name: education, dtype: int64"
      ]
     },
     "execution_count": 9,
     "metadata": {},
     "output_type": "execute_result"
    }
   ],
   "source": [
    "data_train['education'].value_counts()"
   ]
  },
  {
   "cell_type": "code",
   "execution_count": 10,
   "metadata": {
    "execution": {
     "iopub.execute_input": "2021-09-15T19:04:45.630545Z",
     "iopub.status.busy": "2021-09-15T19:04:45.629535Z",
     "iopub.status.idle": "2021-09-15T19:04:45.865778Z",
     "shell.execute_reply": "2021-09-15T19:04:45.864973Z",
     "shell.execute_reply.started": "2021-09-15T19:04:45.630504Z"
    }
   },
   "outputs": [
    {
     "data": {
      "text/plain": [
       "<AxesSubplot:>"
      ]
     },
     "execution_count": 10,
     "metadata": {},
     "output_type": "execute_result"
    },
    {
     "data": {
      "image/png": "[encoded data removed]",
      "text/plain": [
       "<Figure size 432x288 with 1 Axes>"
      ]
     },
     "metadata": {
      "needs_background": "light"
     },
     "output_type": "display_data"
    }
   ],
   "source": [
    "data_train['education'].value_counts().plot.barh()"
   ]
  },
  {
   "cell_type": "code",
   "execution_count": 11,
   "metadata": {
    "execution": {
     "iopub.execute_input": "2021-09-15T19:04:46.768475Z",
     "iopub.status.busy": "2021-09-15T19:04:46.768196Z",
     "iopub.status.idle": "2021-09-15T19:04:46.776369Z",
     "shell.execute_reply": "2021-09-15T19:04:46.775843Z",
     "shell.execute_reply.started": "2021-09-15T19:04:46.768421Z"
    }
   },
   "outputs": [
    {
     "data": {
      "text/plain": [
       "SCH    19138\n",
       "GRD    11403\n",
       "UGR     4932\n",
       "PGR      608\n",
       "ACD       97\n",
       "Name: education, dtype: int64"
      ]
     },
     "execution_count": 11,
     "metadata": {},
     "output_type": "execute_result"
    }
   ],
   "source": [
    "data_test['education'].value_counts()"
   ]
  },
  {
   "cell_type": "code",
   "execution_count": 12,
   "metadata": {
    "execution": {
     "iopub.execute_input": "2021-09-15T19:04:47.975865Z",
     "iopub.status.busy": "2021-09-15T19:04:47.975113Z",
     "iopub.status.idle": "2021-09-15T19:04:48.183221Z",
     "shell.execute_reply": "2021-09-15T19:04:48.182500Z",
     "shell.execute_reply.started": "2021-09-15T19:04:47.975822Z"
    }
   },
   "outputs": [
    {
     "data": {
      "text/plain": [
       "<AxesSubplot:>"
      ]
     },
     "execution_count": 12,
     "metadata": {},
     "output_type": "execute_result"
    },
    {
     "data": {
      "image/png": "[encoded data removed]",
      "text/plain": [
       "<Figure size 432x288 with 1 Axes>"
      ]
     },
     "metadata": {
      "needs_background": "light"
     },
     "output_type": "display_data"
    }
   ],
   "source": [
    "data_test['education'].value_counts().plot.barh()"
   ]
  },
  {
   "cell_type": "markdown",
   "metadata": {},
   "source": [
    "как видно из графиков, больше всего людей со школьным образованием, что вполне логично - школьное образование, в основном, является обязательным. Соответственно, пропуски в этих данных вполне можем заменить на информацию о том, что люди закончили школу"
   ]
  },
  {
   "cell_type": "code",
   "execution_count": 113,
   "metadata": {
    "execution": {
     "iopub.execute_input": "2021-09-15T21:36:40.324859Z",
     "iopub.status.busy": "2021-09-15T21:36:40.324204Z",
     "iopub.status.idle": "2021-09-15T21:36:40.339186Z",
     "shell.execute_reply": "2021-09-15T21:36:40.338540Z",
     "shell.execute_reply.started": "2021-09-15T21:36:40.324816Z"
    }
   },
   "outputs": [],
   "source": [
    "data_train['education'] = data_train['education'].fillna('SCH')\n",
    "data_test['education'] = data_test['education'].fillna('SCH')"
   ]
  },
  {
   "cell_type": "code",
   "execution_count": 14,
   "metadata": {
    "execution": {
     "iopub.execute_input": "2021-09-15T19:04:54.125975Z",
     "iopub.status.busy": "2021-09-15T19:04:54.125337Z",
     "iopub.status.idle": "2021-09-15T19:04:54.429561Z",
     "shell.execute_reply": "2021-09-15T19:04:54.428971Z",
     "shell.execute_reply.started": "2021-09-15T19:04:54.125934Z"
    }
   },
   "outputs": [
    {
     "data": {
      "text/plain": [
       "<AxesSubplot:>"
      ]
     },
     "execution_count": 14,
     "metadata": {},
     "output_type": "execute_result"
    },
    {
     "data": {
      "image/png": "[encoded data removed]",
      "text/plain": [
       "<Figure size 432x288 with 1 Axes>"
      ]
     },
     "metadata": {
      "needs_background": "light"
     },
     "output_type": "display_data"
    }
   ],
   "source": [
    "data_train['education'].value_counts().plot.barh()"
   ]
  },
  {
   "cell_type": "code",
   "execution_count": 15,
   "metadata": {
    "execution": {
     "iopub.execute_input": "2021-09-15T19:04:55.838118Z",
     "iopub.status.busy": "2021-09-15T19:04:55.837294Z",
     "iopub.status.idle": "2021-09-15T19:04:56.037312Z",
     "shell.execute_reply": "2021-09-15T19:04:56.036365Z",
     "shell.execute_reply.started": "2021-09-15T19:04:55.838071Z"
    }
   },
   "outputs": [
    {
     "data": {
      "text/plain": [
       "<AxesSubplot:>"
      ]
     },
     "execution_count": 15,
     "metadata": {},
     "output_type": "execute_result"
    },
    {
     "data": {
      "image/png": "[encoded data removed]",
      "text/plain": [
       "<Figure size 432x288 with 1 Axes>"
      ]
     },
     "metadata": {
      "needs_background": "light"
     },
     "output_type": "display_data"
    }
   ],
   "source": [
    "data_test['education'].value_counts().plot.barh()"
   ]
  },
  {
   "cell_type": "markdown",
   "metadata": {},
   "source": [
    "как видно структура данных особо не изменилась, но зато данные стали более \"пригодны\" к дальнейшему анализу"
   ]
  },
  {
   "cell_type": "code",
   "execution_count": 16,
   "metadata": {
    "execution": {
     "iopub.execute_input": "2021-09-15T21:36:46.180240Z",
     "iopub.status.busy": "2021-09-15T21:36:46.179274Z",
     "iopub.status.idle": "2021-09-15T21:36:46.212665Z",
     "shell.execute_reply": "2021-09-15T21:36:46.211502Z",
     "shell.execute_reply.started": "2021-09-15T21:36:46.180186Z"
    }
   },
   "outputs": [
    {
     "data": {
      "text/plain": [
       "client_id           0\n",
       "app_date            0\n",
       "education           0\n",
       "sex                 0\n",
       "age                 0\n",
       "car                 0\n",
       "car_type            0\n",
       "decline_app_cnt     0\n",
       "good_work           0\n",
       "score_bki           0\n",
       "bki_request_cnt     0\n",
       "region_rating       0\n",
       "home_address        0\n",
       "work_address        0\n",
       "income              0\n",
       "sna                 0\n",
       "first_time          0\n",
       "foreign_passport    0\n",
       "default             0\n",
       "dtype: int64"
      ]
     },
     "execution_count": 16,
     "metadata": {},
     "output_type": "execute_result"
    }
   ],
   "source": [
    "data_train.isnull().sum()"
   ]
  },
  {
   "cell_type": "code",
   "execution_count": 17,
   "metadata": {
    "execution": {
     "iopub.execute_input": "2021-09-15T21:36:51.946043Z",
     "iopub.status.busy": "2021-09-15T21:36:51.945770Z",
     "iopub.status.idle": "2021-09-15T21:36:51.967133Z",
     "shell.execute_reply": "2021-09-15T21:36:51.966235Z",
     "shell.execute_reply.started": "2021-09-15T21:36:51.946015Z"
    }
   },
   "outputs": [
    {
     "data": {
      "text/plain": [
       "client_id           0\n",
       "app_date            0\n",
       "education           0\n",
       "sex                 0\n",
       "age                 0\n",
       "car                 0\n",
       "car_type            0\n",
       "decline_app_cnt     0\n",
       "good_work           0\n",
       "score_bki           0\n",
       "bki_request_cnt     0\n",
       "region_rating       0\n",
       "home_address        0\n",
       "work_address        0\n",
       "income              0\n",
       "sna                 0\n",
       "first_time          0\n",
       "foreign_passport    0\n",
       "dtype: int64"
      ]
     },
     "execution_count": 17,
     "metadata": {},
     "output_type": "execute_result"
    }
   ],
   "source": [
    "data_test.isnull().sum()"
   ]
  },
  {
   "cell_type": "markdown",
   "metadata": {},
   "source": [
    "для дальнейшей обработки информации объединим датасеты с данными в один датасет"
   ]
  },
  {
   "cell_type": "code",
   "execution_count": 114,
   "metadata": {
    "execution": {
     "iopub.execute_input": "2021-09-15T21:36:55.816647Z",
     "iopub.status.busy": "2021-09-15T21:36:55.816333Z",
     "iopub.status.idle": "2021-09-15T21:36:55.903095Z",
     "shell.execute_reply": "2021-09-15T21:36:55.902191Z",
     "shell.execute_reply.started": "2021-09-15T21:36:55.816614Z"
    }
   },
   "outputs": [
    {
     "name": "stdout",
     "output_type": "stream",
     "text": [
      "<class 'pandas.core.frame.DataFrame'>\n",
      "RangeIndex: 110148 entries, 0 to 110147\n",
      "Data columns (total 20 columns):\n",
      " #   Column            Non-Null Count   Dtype  \n",
      "---  ------            --------------   -----  \n",
      " 0   client_id         110148 non-null  int64  \n",
      " 1   app_date          110148 non-null  object \n",
      " 2   education         110148 non-null  object \n",
      " 3   sex               110148 non-null  object \n",
      " 4   age               110148 non-null  int64  \n",
      " 5   car               110148 non-null  object \n",
      " 6   car_type          110148 non-null  object \n",
      " 7   decline_app_cnt   110148 non-null  int64  \n",
      " 8   good_work         110148 non-null  int64  \n",
      " 9   score_bki         110148 non-null  float64\n",
      " 10  bki_request_cnt   110148 non-null  int64  \n",
      " 11  region_rating     110148 non-null  int64  \n",
      " 12  home_address      110148 non-null  int64  \n",
      " 13  work_address      110148 non-null  int64  \n",
      " 14  income            110148 non-null  int64  \n",
      " 15  sna               110148 non-null  int64  \n",
      " 16  first_time        110148 non-null  int64  \n",
      " 17  foreign_passport  110148 non-null  object \n",
      " 18  sample            110148 non-null  int64  \n",
      " 19  default           110148 non-null  int64  \n",
      "dtypes: float64(1), int64(13), object(6)\n",
      "memory usage: 16.8+ MB\n"
     ]
    }
   ],
   "source": [
    "data_train['sample'] = 1 # помечаем train\n",
    "data_test['sample'] = 0 # помечаем test\n",
    "data_test['default'] = 0 # т.к. значения дефолта отсутствуют для тестовой выборки, то пока заполним нулями\n",
    "\n",
    "data = data_test.append(data_train, sort=False).reset_index(drop=True)\n",
    "data.info()"
   ]
  },
  {
   "cell_type": "code",
   "execution_count": 19,
   "metadata": {
    "execution": {
     "iopub.execute_input": "2021-09-15T19:30:02.293185Z",
     "iopub.status.busy": "2021-09-15T19:30:02.292170Z",
     "iopub.status.idle": "2021-09-15T19:30:02.318315Z",
     "shell.execute_reply": "2021-09-15T19:30:02.317400Z",
     "shell.execute_reply.started": "2021-09-15T19:30:02.293138Z"
    }
   },
   "outputs": [
    {
     "data": {
      "text/html": [
       "<div>\n",
       "<style scoped>\n",
       "    .dataframe tbody tr th:only-of-type {\n",
       "        vertical-align: middle;\n",
       "    }\n",
       "\n",
       "    .dataframe tbody tr th {\n",
       "        vertical-align: top;\n",
       "    }\n",
       "\n",
       "    .dataframe thead th {\n",
       "        text-align: right;\n",
       "    }\n",
       "</style>\n",
       "<table border=\"1\" class=\"dataframe\">\n",
       "  <thead>\n",
       "    <tr style=\"text-align: right;\">\n",
       "      <th></th>\n",
       "      <th>client_id</th>\n",
       "      <th>app_date</th>\n",
       "      <th>education</th>\n",
       "      <th>sex</th>\n",
       "      <th>age</th>\n",
       "      <th>car</th>\n",
       "      <th>car_type</th>\n",
       "      <th>decline_app_cnt</th>\n",
       "      <th>good_work</th>\n",
       "      <th>score_bki</th>\n",
       "      <th>bki_request_cnt</th>\n",
       "      <th>region_rating</th>\n",
       "      <th>home_address</th>\n",
       "      <th>work_address</th>\n",
       "      <th>income</th>\n",
       "      <th>sna</th>\n",
       "      <th>first_time</th>\n",
       "      <th>foreign_passport</th>\n",
       "      <th>sample</th>\n",
       "      <th>default</th>\n",
       "    </tr>\n",
       "  </thead>\n",
       "  <tbody>\n",
       "    <tr>\n",
       "      <th>95987</th>\n",
       "      <td>50439</td>\n",
       "      <td>27FEB2014</td>\n",
       "      <td>GRD</td>\n",
       "      <td>F</td>\n",
       "      <td>33</td>\n",
       "      <td>N</td>\n",
       "      <td>N</td>\n",
       "      <td>0</td>\n",
       "      <td>1</td>\n",
       "      <td>-1.371167</td>\n",
       "      <td>1</td>\n",
       "      <td>60</td>\n",
       "      <td>1</td>\n",
       "      <td>2</td>\n",
       "      <td>14000</td>\n",
       "      <td>2</td>\n",
       "      <td>2</td>\n",
       "      <td>N</td>\n",
       "      <td>1</td>\n",
       "      <td>0</td>\n",
       "    </tr>\n",
       "    <tr>\n",
       "      <th>83075</th>\n",
       "      <td>106481</td>\n",
       "      <td>25APR2014</td>\n",
       "      <td>SCH</td>\n",
       "      <td>M</td>\n",
       "      <td>54</td>\n",
       "      <td>N</td>\n",
       "      <td>N</td>\n",
       "      <td>1</td>\n",
       "      <td>0</td>\n",
       "      <td>-1.775263</td>\n",
       "      <td>3</td>\n",
       "      <td>50</td>\n",
       "      <td>2</td>\n",
       "      <td>3</td>\n",
       "      <td>29300</td>\n",
       "      <td>4</td>\n",
       "      <td>1</td>\n",
       "      <td>N</td>\n",
       "      <td>1</td>\n",
       "      <td>0</td>\n",
       "    </tr>\n",
       "    <tr>\n",
       "      <th>99820</th>\n",
       "      <td>71998</td>\n",
       "      <td>19MAR2014</td>\n",
       "      <td>GRD</td>\n",
       "      <td>M</td>\n",
       "      <td>28</td>\n",
       "      <td>Y</td>\n",
       "      <td>Y</td>\n",
       "      <td>1</td>\n",
       "      <td>0</td>\n",
       "      <td>-1.388749</td>\n",
       "      <td>5</td>\n",
       "      <td>60</td>\n",
       "      <td>2</td>\n",
       "      <td>3</td>\n",
       "      <td>50000</td>\n",
       "      <td>1</td>\n",
       "      <td>3</td>\n",
       "      <td>N</td>\n",
       "      <td>1</td>\n",
       "      <td>1</td>\n",
       "    </tr>\n",
       "    <tr>\n",
       "      <th>2788</th>\n",
       "      <td>13549</td>\n",
       "      <td>21JAN2014</td>\n",
       "      <td>SCH</td>\n",
       "      <td>M</td>\n",
       "      <td>30</td>\n",
       "      <td>N</td>\n",
       "      <td>N</td>\n",
       "      <td>0</td>\n",
       "      <td>0</td>\n",
       "      <td>-2.385778</td>\n",
       "      <td>3</td>\n",
       "      <td>70</td>\n",
       "      <td>1</td>\n",
       "      <td>3</td>\n",
       "      <td>32000</td>\n",
       "      <td>2</td>\n",
       "      <td>3</td>\n",
       "      <td>N</td>\n",
       "      <td>0</td>\n",
       "      <td>0</td>\n",
       "    </tr>\n",
       "    <tr>\n",
       "      <th>109262</th>\n",
       "      <td>18385</td>\n",
       "      <td>25JAN2014</td>\n",
       "      <td>GRD</td>\n",
       "      <td>F</td>\n",
       "      <td>55</td>\n",
       "      <td>N</td>\n",
       "      <td>N</td>\n",
       "      <td>0</td>\n",
       "      <td>0</td>\n",
       "      <td>-2.564143</td>\n",
       "      <td>4</td>\n",
       "      <td>80</td>\n",
       "      <td>2</td>\n",
       "      <td>3</td>\n",
       "      <td>100000</td>\n",
       "      <td>1</td>\n",
       "      <td>2</td>\n",
       "      <td>N</td>\n",
       "      <td>1</td>\n",
       "      <td>0</td>\n",
       "    </tr>\n",
       "  </tbody>\n",
       "</table>\n",
       "</div>"
      ],
      "text/plain": [
       "        client_id   app_date education sex  age car car_type  decline_app_cnt  \\\n",
       "95987       50439  27FEB2014       GRD   F   33   N        N                0   \n",
       "83075      106481  25APR2014       SCH   M   54   N        N                1   \n",
       "99820       71998  19MAR2014       GRD   M   28   Y        Y                1   \n",
       "2788        13549  21JAN2014       SCH   M   30   N        N                0   \n",
       "109262      18385  25JAN2014       GRD   F   55   N        N                0   \n",
       "\n",
       "        good_work  score_bki  bki_request_cnt  region_rating  home_address  \\\n",
       "95987           1  -1.371167                1             60             1   \n",
       "83075           0  -1.775263                3             50             2   \n",
       "99820           0  -1.388749                5             60             2   \n",
       "2788            0  -2.385778                3             70             1   \n",
       "109262          0  -2.564143                4             80             2   \n",
       "\n",
       "        work_address  income  sna  first_time foreign_passport  sample  \\\n",
       "95987              2   14000    2           2                N       1   \n",
       "83075              3   29300    4           1                N       1   \n",
       "99820              3   50000    1           3                N       1   \n",
       "2788               3   32000    2           3                N       0   \n",
       "109262             3  100000    1           2                N       1   \n",
       "\n",
       "        default  \n",
       "95987         0  \n",
       "83075         0  \n",
       "99820         1  \n",
       "2788          0  \n",
       "109262        0  "
      ]
     },
     "execution_count": 19,
     "metadata": {},
     "output_type": "execute_result"
    }
   ],
   "source": [
    "data.sample(5)"
   ]
  },
  {
   "cell_type": "markdown",
   "metadata": {},
   "source": [
    "все данные датасета можно разбить на несколько видов: бинарные, категориальные и числовые. Для этого разделим колонки в соответствующие списки"
   ]
  },
  {
   "cell_type": "code",
   "execution_count": 115,
   "metadata": {
    "execution": {
     "iopub.execute_input": "2021-09-15T21:37:02.257620Z",
     "iopub.status.busy": "2021-09-15T21:37:02.257157Z",
     "iopub.status.idle": "2021-09-15T21:37:02.262798Z",
     "shell.execute_reply": "2021-09-15T21:37:02.262191Z",
     "shell.execute_reply.started": "2021-09-15T21:37:02.257575Z"
    }
   },
   "outputs": [],
   "source": [
    "bin_cols = ['sex', 'car', 'car_type', 'foreign_passport', 'good_work']\n",
    "cat_cols = ['education', 'region_rating', 'home_address', 'work_address', 'app_date', 'sna', 'first_time']\n",
    "num_cols = ['age', 'decline_app_cnt', 'income', 'bki_request_cnt', 'score_bki']"
   ]
  },
  {
   "cell_type": "markdown",
   "metadata": {},
   "source": [
    "**1.1 Числовые переменные**"
   ]
  },
  {
   "cell_type": "code",
   "execution_count": 21,
   "metadata": {
    "execution": {
     "iopub.execute_input": "2021-09-15T19:18:14.234166Z",
     "iopub.status.busy": "2021-09-15T19:18:14.232374Z",
     "iopub.status.idle": "2021-09-15T19:18:15.827912Z",
     "shell.execute_reply": "2021-09-15T19:18:15.826879Z",
     "shell.execute_reply.started": "2021-09-15T19:18:14.234082Z"
    }
   },
   "outputs": [
    {
     "data": {
      "text/plain": [
       "array([[<AxesSubplot:title={'center':'age'}>,\n",
       "        <AxesSubplot:title={'center':'decline_app_cnt'}>],\n",
       "       [<AxesSubplot:title={'center':'income'}>,\n",
       "        <AxesSubplot:title={'center':'bki_request_cnt'}>],\n",
       "       [<AxesSubplot:title={'center':'score_bki'}>, <AxesSubplot:>]],\n",
       "      dtype=object)"
      ]
     },
     "execution_count": 21,
     "metadata": {},
     "output_type": "execute_result"
    },
    {
     "data": {
      "image/png": "[encoded data removed]",
      "text/plain": [
       "<Figure size 720x576 with 6 Axes>"
      ]
     },
     "metadata": {
      "needs_background": "light"
     },
     "output_type": "display_data"
    }
   ],
   "source": [
    "# рассмотрим распределение числовых признаков\n",
    "data[num_cols].hist(figsize=(10, 8), bins=100)"
   ]
  },
  {
   "cell_type": "markdown",
   "metadata": {},
   "source": [
    "как видно, почти у всех показателей наблюдается смещение вправо. для того, чтобы распределение было более равномерным, попробуем прологарифировать эти данные"
   ]
  },
  {
   "cell_type": "code",
   "execution_count": 52,
   "metadata": {
    "execution": {
     "iopub.execute_input": "2021-09-15T19:19:25.423605Z",
     "iopub.status.busy": "2021-09-15T19:19:25.422814Z",
     "iopub.status.idle": "2021-09-15T19:19:28.126504Z",
     "shell.execute_reply": "2021-09-15T19:19:28.125532Z",
     "shell.execute_reply.started": "2021-09-15T19:19:25.423567Z"
    }
   },
   "outputs": [
    {
     "data": {
      "text/plain": [
       "array([[<AxesSubplot:title={'center':'age'}>,\n",
       "        <AxesSubplot:title={'center':'decline_app_cnt'}>],\n",
       "       [<AxesSubplot:title={'center':'income'}>,\n",
       "        <AxesSubplot:title={'center':'bki_request_cnt'}>],\n",
       "       [<AxesSubplot:title={'center':'score_bki'}>, <AxesSubplot:>]],\n",
       "      dtype=object)"
      ]
     },
     "execution_count": 52,
     "metadata": {},
     "output_type": "execute_result"
    },
    {
     "data": {
      "image/png": "[encoded data removed]",
      "text/plain": [
       "<Figure size 720x576 with 6 Axes>"
      ]
     },
     "metadata": {
      "needs_background": "light"
     },
     "output_type": "display_data"
    }
   ],
   "source": [
    "data_log = data.copy()\n",
    "num_cols_log = ['age', 'decline_app_cnt', 'income', 'bki_request_cnt', 'score_bki']\n",
    "for q in num_cols_log:\n",
    "    data_log[q] = data_log[q].apply(lambda w: np.log(w + 1))\n",
    "    \n",
    "data_log[num_cols_log].hist(figsize=(10, 8), bins=100)"
   ]
  },
  {
   "cell_type": "markdown",
   "metadata": {},
   "source": [
    "как видно, логарифмирование \"помогло\" только данным о доходе заемщика, его распределение стало более нормальным, остальные показатели также остались смещенными вправо. "
   ]
  },
  {
   "cell_type": "markdown",
   "metadata": {},
   "source": [
    "рассмотрим показатель даты, и извлечем из него данные, которые можно использовать в качестве каких либо признаков"
   ]
  },
  {
   "cell_type": "code",
   "execution_count": 116,
   "metadata": {},
   "outputs": [
    {
     "data": {
      "text/html": [
       "<div>\n",
       "<style scoped>\n",
       "    .dataframe tbody tr th:only-of-type {\n",
       "        vertical-align: middle;\n",
       "    }\n",
       "\n",
       "    .dataframe tbody tr th {\n",
       "        vertical-align: top;\n",
       "    }\n",
       "\n",
       "    .dataframe thead th {\n",
       "        text-align: right;\n",
       "    }\n",
       "</style>\n",
       "<table border=\"1\" class=\"dataframe\">\n",
       "  <thead>\n",
       "    <tr style=\"text-align: right;\">\n",
       "      <th></th>\n",
       "      <th>client_id</th>\n",
       "      <th>app_date</th>\n",
       "      <th>education</th>\n",
       "      <th>sex</th>\n",
       "      <th>age</th>\n",
       "      <th>car</th>\n",
       "      <th>car_type</th>\n",
       "      <th>decline_app_cnt</th>\n",
       "      <th>good_work</th>\n",
       "      <th>score_bki</th>\n",
       "      <th>...</th>\n",
       "      <th>region_rating</th>\n",
       "      <th>home_address</th>\n",
       "      <th>work_address</th>\n",
       "      <th>income</th>\n",
       "      <th>sna</th>\n",
       "      <th>first_time</th>\n",
       "      <th>foreign_passport</th>\n",
       "      <th>sample</th>\n",
       "      <th>default</th>\n",
       "      <th>app_month</th>\n",
       "    </tr>\n",
       "  </thead>\n",
       "  <tbody>\n",
       "    <tr>\n",
       "      <th>32842</th>\n",
       "      <td>86961</td>\n",
       "      <td>2014-04-03</td>\n",
       "      <td>ACD</td>\n",
       "      <td>M</td>\n",
       "      <td>55</td>\n",
       "      <td>Y</td>\n",
       "      <td>Y</td>\n",
       "      <td>0</td>\n",
       "      <td>1</td>\n",
       "      <td>-2.426663</td>\n",
       "      <td>...</td>\n",
       "      <td>60</td>\n",
       "      <td>2</td>\n",
       "      <td>3</td>\n",
       "      <td>100000</td>\n",
       "      <td>1</td>\n",
       "      <td>2</td>\n",
       "      <td>N</td>\n",
       "      <td>0</td>\n",
       "      <td>0</td>\n",
       "      <td>4</td>\n",
       "    </tr>\n",
       "    <tr>\n",
       "      <th>45888</th>\n",
       "      <td>19960</td>\n",
       "      <td>2014-01-27</td>\n",
       "      <td>GRD</td>\n",
       "      <td>M</td>\n",
       "      <td>41</td>\n",
       "      <td>Y</td>\n",
       "      <td>N</td>\n",
       "      <td>0</td>\n",
       "      <td>0</td>\n",
       "      <td>-1.984443</td>\n",
       "      <td>...</td>\n",
       "      <td>70</td>\n",
       "      <td>2</td>\n",
       "      <td>2</td>\n",
       "      <td>45000</td>\n",
       "      <td>1</td>\n",
       "      <td>4</td>\n",
       "      <td>N</td>\n",
       "      <td>1</td>\n",
       "      <td>0</td>\n",
       "      <td>1</td>\n",
       "    </tr>\n",
       "    <tr>\n",
       "      <th>6211</th>\n",
       "      <td>40341</td>\n",
       "      <td>2014-02-17</td>\n",
       "      <td>GRD</td>\n",
       "      <td>F</td>\n",
       "      <td>32</td>\n",
       "      <td>N</td>\n",
       "      <td>N</td>\n",
       "      <td>0</td>\n",
       "      <td>0</td>\n",
       "      <td>-0.455709</td>\n",
       "      <td>...</td>\n",
       "      <td>50</td>\n",
       "      <td>2</td>\n",
       "      <td>3</td>\n",
       "      <td>32000</td>\n",
       "      <td>1</td>\n",
       "      <td>4</td>\n",
       "      <td>N</td>\n",
       "      <td>0</td>\n",
       "      <td>0</td>\n",
       "      <td>2</td>\n",
       "    </tr>\n",
       "    <tr>\n",
       "      <th>101827</th>\n",
       "      <td>45338</td>\n",
       "      <td>2014-02-21</td>\n",
       "      <td>GRD</td>\n",
       "      <td>F</td>\n",
       "      <td>53</td>\n",
       "      <td>N</td>\n",
       "      <td>N</td>\n",
       "      <td>0</td>\n",
       "      <td>1</td>\n",
       "      <td>-1.583533</td>\n",
       "      <td>...</td>\n",
       "      <td>60</td>\n",
       "      <td>2</td>\n",
       "      <td>3</td>\n",
       "      <td>25000</td>\n",
       "      <td>1</td>\n",
       "      <td>4</td>\n",
       "      <td>N</td>\n",
       "      <td>1</td>\n",
       "      <td>0</td>\n",
       "      <td>2</td>\n",
       "    </tr>\n",
       "    <tr>\n",
       "      <th>9598</th>\n",
       "      <td>65220</td>\n",
       "      <td>2014-03-14</td>\n",
       "      <td>SCH</td>\n",
       "      <td>M</td>\n",
       "      <td>28</td>\n",
       "      <td>Y</td>\n",
       "      <td>Y</td>\n",
       "      <td>0</td>\n",
       "      <td>0</td>\n",
       "      <td>-1.622508</td>\n",
       "      <td>...</td>\n",
       "      <td>50</td>\n",
       "      <td>1</td>\n",
       "      <td>3</td>\n",
       "      <td>40000</td>\n",
       "      <td>1</td>\n",
       "      <td>3</td>\n",
       "      <td>N</td>\n",
       "      <td>0</td>\n",
       "      <td>0</td>\n",
       "      <td>3</td>\n",
       "    </tr>\n",
       "  </tbody>\n",
       "</table>\n",
       "<p>5 rows × 21 columns</p>\n",
       "</div>"
      ],
      "text/plain": [
       "        client_id   app_date education sex  age car car_type  decline_app_cnt  \\\n",
       "32842       86961 2014-04-03       ACD   M   55   Y        Y                0   \n",
       "45888       19960 2014-01-27       GRD   M   41   Y        N                0   \n",
       "6211        40341 2014-02-17       GRD   F   32   N        N                0   \n",
       "101827      45338 2014-02-21       GRD   F   53   N        N                0   \n",
       "9598        65220 2014-03-14       SCH   M   28   Y        Y                0   \n",
       "\n",
       "        good_work  score_bki  ...  region_rating  home_address  work_address  \\\n",
       "32842           1  -2.426663  ...             60             2             3   \n",
       "45888           0  -1.984443  ...             70             2             2   \n",
       "6211            0  -0.455709  ...             50             2             3   \n",
       "101827          1  -1.583533  ...             60             2             3   \n",
       "9598            0  -1.622508  ...             50             1             3   \n",
       "\n",
       "        income  sna  first_time  foreign_passport sample  default  app_month  \n",
       "32842   100000    1           2                 N      0        0          4  \n",
       "45888    45000    1           4                 N      1        0          1  \n",
       "6211     32000    1           4                 N      0        0          2  \n",
       "101827   25000    1           4                 N      1        0          2  \n",
       "9598     40000    1           3                 N      0        0          3  \n",
       "\n",
       "[5 rows x 21 columns]"
      ]
     },
     "execution_count": 116,
     "metadata": {},
     "output_type": "execute_result"
    }
   ],
   "source": [
    "# преобразуем показатель даты в формат месяцев\n",
    "data['app_date'] = pd.to_datetime(data['app_date'])\n",
    "data['app_month'] = data['app_date'].dt.month\n",
    "#добавим эти данные к списку категориальных признаков\n",
    "cat_cols.append('app_month')\n",
    "data.sample(5)"
   ]
  },
  {
   "cell_type": "code",
   "execution_count": 117,
   "metadata": {},
   "outputs": [
    {
     "data": {
      "text/plain": [
       "<AxesSubplot:>"
      ]
     },
     "execution_count": 117,
     "metadata": {},
     "output_type": "execute_result"
    },
    {
     "data": {
      "image/png": "[encoded data removed]",
      "text/plain": [
       "<Figure size 432x288 with 1 Axes>"
      ]
     },
     "metadata": {
      "needs_background": "light"
     },
     "output_type": "display_data"
    }
   ],
   "source": [
    "data['app_month'].value_counts().sort_index(ascending=True).plot.bar()"
   ]
  },
  {
   "cell_type": "markdown",
   "metadata": {},
   "source": [
    "количество заявок на кредиты в марте увеличилось. Если эти данные из банков, которые находятся на территории бывшего СССР, то это вполне объяснимо покупкой подарков к 8 марта :). И этим можно воспользоваться банкам с маркетинговой точки зрения (период запуска рекламы)"
   ]
  },
  {
   "cell_type": "markdown",
   "metadata": {},
   "source": [
    "теперь проанализируем статистические показатели числовых признаков. Визуально это можно сделать с помощью boxplot"
   ]
  },
  {
   "cell_type": "code",
   "execution_count": 68,
   "metadata": {
    "execution": {
     "iopub.execute_input": "2021-09-15T19:50:39.545803Z",
     "iopub.status.busy": "2021-09-15T19:50:39.545531Z",
     "iopub.status.idle": "2021-09-15T19:50:40.553894Z",
     "shell.execute_reply": "2021-09-15T19:50:40.552962Z",
     "shell.execute_reply.started": "2021-09-15T19:50:39.545778Z"
    }
   },
   "outputs": [
    {
     "data": {
      "image/png": "[encoded data removed]",
      "text/plain": [
       "<Figure size 1080x216 with 1 Axes>"
      ]
     },
     "metadata": {
      "needs_background": "light"
     },
     "output_type": "display_data"
    },
    {
     "data": {
      "image/png": "[encoded data removed]",
      "text/plain": [
       "<Figure size 1080x216 with 1 Axes>"
      ]
     },
     "metadata": {
      "needs_background": "light"
     },
     "output_type": "display_data"
    },
    {
     "data": {
      "image/png": "[encoded data removed]",
      "text/plain": [
       "<Figure size 1080x216 with 1 Axes>"
      ]
     },
     "metadata": {
      "needs_background": "light"
     },
     "output_type": "display_data"
    },
    {
     "data": {
      "image/png": "[encoded data removed]",
      "text/plain": [
       "<Figure size 1080x216 with 1 Axes>"
      ]
     },
     "metadata": {
      "needs_background": "light"
     },
     "output_type": "display_data"
    },
    {
     "data": {
      "image/png": "[encoded data removed]",
      "text/plain": [
       "<Figure size 1080x216 with 1 Axes>"
      ]
     },
     "metadata": {
      "needs_background": "light"
     },
     "output_type": "display_data"
    },
    {
     "data": {
      "image/png": "[encoded data removed]",
      "text/plain": [
       "<Figure size 1080x216 with 1 Axes>"
      ]
     },
     "metadata": {
      "needs_background": "light"
     },
     "output_type": "display_data"
    }
   ],
   "source": [
    "for col in num_cols:\n",
    "    plt.figure(figsize=(15, 3))\n",
    "    sns.boxplot(y=data.default, x=data[col], orient='h')"
   ]
  },
  {
   "cell_type": "markdown",
   "metadata": {},
   "source": [
    "Теперь необходимо проверить датасет на выбросы и удалить их, т.к наличие выбросов существенно ухудшает модель"
   ]
  },
  {
   "cell_type": "code",
   "execution_count": 118,
   "metadata": {},
   "outputs": [
    {
     "name": "stdout",
     "output_type": "stream",
     "text": [
      "IQR для age составляет: 18.0\n",
      "age\n",
      "IQR для decline_app_cnt составляет: 0.0\n",
      "decline_app_cnt\n",
      "IQR для income составляет: 28000.0\n",
      "income\n",
      "IQR для bki_request_cnt составляет: 3.0\n",
      "bki_request_cnt\n",
      "IQR для score_bki составляет: 0.6925455175000004\n",
      "score_bki\n",
      "<class 'pandas.core.frame.DataFrame'>\n",
      "Int64Index: 109630 entries, 0 to 110147\n",
      "Data columns (total 21 columns):\n",
      " #   Column            Non-Null Count   Dtype         \n",
      "---  ------            --------------   -----         \n",
      " 0   client_id         109630 non-null  int64         \n",
      " 1   app_date          109630 non-null  datetime64[ns]\n",
      " 2   education         109630 non-null  object        \n",
      " 3   sex               109630 non-null  object        \n",
      " 4   age               109630 non-null  int64         \n",
      " 5   car               109630 non-null  object        \n",
      " 6   car_type          109630 non-null  object        \n",
      " 7   decline_app_cnt   109630 non-null  int64         \n",
      " 8   good_work         109630 non-null  int64         \n",
      " 9   score_bki         109630 non-null  float64       \n",
      " 10  bki_request_cnt   109630 non-null  int64         \n",
      " 11  region_rating     109630 non-null  int64         \n",
      " 12  home_address      109630 non-null  int64         \n",
      " 13  work_address      109630 non-null  int64         \n",
      " 14  income            109630 non-null  int64         \n",
      " 15  sna               109630 non-null  int64         \n",
      " 16  first_time        109630 non-null  int64         \n",
      " 17  foreign_passport  109630 non-null  object        \n",
      " 18  sample            109630 non-null  int64         \n",
      " 19  default           109630 non-null  int64         \n",
      " 20  app_month         109630 non-null  int64         \n",
      "dtypes: datetime64[ns](1), float64(1), int64(14), object(5)\n",
      "memory usage: 18.4+ MB\n"
     ]
    }
   ],
   "source": [
    "# выбросы = это данные, которые выходят более, чем на 1,5 межквартильного размаха\n",
    "def removeIQR(data, col):\n",
    "    Q3 = np.quantile(data[col], 0.75) # 1й квартиль\n",
    "    Q1 = np.quantile(data[col], 0.25) # 3й квартиль\n",
    "    IQR = Q3 - Q1 # межквартильный размах\n",
    "     \n",
    "    print(\"IQR для %s составляет: %s\" % (col, IQR))\n",
    "    global outlier_free_list\n",
    "    global filtered_data\n",
    "     \n",
    "    lower_range = Q1 - 1.5 * IQR\n",
    "    upper_range = Q3 + 1.5 * IQR\n",
    "    outlier_free_list = [x for x in data[col] if (\n",
    "        (x >= lower_range) & (x <= upper_range))]\n",
    "    filtered_data = data.loc[data[col].isin(outlier_free_list)]\n",
    "    print(col)\n",
    "\n",
    "for i in num_cols:\n",
    "    removeIQR(data, i)\n",
    "data = filtered_data\n",
    "data.info()"
   ]
  },
  {
   "cell_type": "markdown",
   "metadata": {},
   "source": [
    "данных много и можно посчитать количество дней, начиная с начала года, когда была подана заявка. Ососбой аналитической информации эти данные не несут, но могут помочь улучшить модель, как числовой признак"
   ]
  },
  {
   "cell_type": "code",
   "execution_count": 119,
   "metadata": {},
   "outputs": [
    {
     "name": "stdout",
     "output_type": "stream",
     "text": [
      "['age', 'decline_app_cnt', 'income', 'bki_request_cnt', 'score_bki', 'days'] ['education', 'region_rating', 'home_address', 'work_address', 'sna', 'first_time', 'app_month']\n"
     ]
    }
   ],
   "source": [
    "data['days'] = (data.app_date - data.app_date.min()).dt.days\n",
    "#добавим эти данные к списку числовых признаков\n",
    "num_cols.append('days')\n",
    "# данные о app_date уберем из датасета и списка\n",
    "data.drop(['app_date'], axis = 1, inplace = True)\n",
    "cat_cols.remove('app_date')\n",
    "print(num_cols, cat_cols)"
   ]
  },
  {
   "cell_type": "markdown",
   "metadata": {},
   "source": [
    "посмотрим, как изменились статистические показатели числовых признаков после удаления выбросов"
   ]
  },
  {
   "cell_type": "code",
   "execution_count": 120,
   "metadata": {},
   "outputs": [
    {
     "data": {
      "image/png": "[encoded data removed]",
      "text/plain": [
       "<Figure size 1080x216 with 1 Axes>"
      ]
     },
     "metadata": {
      "needs_background": "light"
     },
     "output_type": "display_data"
    },
    {
     "data": {
      "image/png": "[encoded data removed]",
      "text/plain": [
       "<Figure size 1080x216 with 1 Axes>"
      ]
     },
     "metadata": {
      "needs_background": "light"
     },
     "output_type": "display_data"
    },
    {
     "data": {
      "image/png": "[encoded data removed]",
      "text/plain": [
       "<Figure size 1080x216 with 1 Axes>"
      ]
     },
     "metadata": {
      "needs_background": "light"
     },
     "output_type": "display_data"
    },
    {
     "data": {
      "image/png": "[encoded data removed]",
      "text/plain": [
       "<Figure size 1080x216 with 1 Axes>"
      ]
     },
     "metadata": {
      "needs_background": "light"
     },
     "output_type": "display_data"
    },
    {
     "data": {
      "image/png": "[encoded data removed]",
      "text/plain": [
       "<Figure size 1080x216 with 1 Axes>"
      ]
     },
     "metadata": {
      "needs_background": "light"
     },
     "output_type": "display_data"
    },
    {
     "data": {
      "image/png": "[encoded data removed]",
      "text/plain": [
       "<Figure size 1080x216 with 1 Axes>"
      ]
     },
     "metadata": {
      "needs_background": "light"
     },
     "output_type": "display_data"
    }
   ],
   "source": [
    "for col in num_cols:\n",
    "    plt.figure(figsize=(15, 3))\n",
    "    sns.boxplot(y=data.default, x=data[col], orient='h')"
   ]
  },
  {
   "cell_type": "markdown",
   "metadata": {},
   "source": [
    "посмотрим, как будут распределены данные после очистки при логарифмировании"
   ]
  },
  {
   "cell_type": "code",
   "execution_count": 87,
   "metadata": {
    "execution": {
     "iopub.execute_input": "2021-09-15T20:13:25.116924Z",
     "iopub.status.busy": "2021-09-15T20:13:25.116001Z",
     "iopub.status.idle": "2021-09-15T20:13:27.673201Z",
     "shell.execute_reply": "2021-09-15T20:13:27.672413Z",
     "shell.execute_reply.started": "2021-09-15T20:13:25.116869Z"
    }
   },
   "outputs": [
    {
     "data": {
      "text/plain": [
       "array([[<AxesSubplot:title={'center':'age'}>,\n",
       "        <AxesSubplot:title={'center':'decline_app_cnt'}>],\n",
       "       [<AxesSubplot:title={'center':'income'}>,\n",
       "        <AxesSubplot:title={'center':'bki_request_cnt'}>],\n",
       "       [<AxesSubplot:title={'center':'score_bki'}>,\n",
       "        <AxesSubplot:title={'center':'days'}>]], dtype=object)"
      ]
     },
     "execution_count": 87,
     "metadata": {},
     "output_type": "execute_result"
    },
    {
     "data": {
      "image/png": "[encoded data removed]",
      "text/plain": [
       "<Figure size 720x576 with 6 Axes>"
      ]
     },
     "metadata": {
      "needs_background": "light"
     },
     "output_type": "display_data"
    }
   ],
   "source": [
    "data_log1 = data.copy()\n",
    "num_cols_log1 = ['age', 'decline_app_cnt', 'income', 'bki_request_cnt', 'score_bki', 'days']\n",
    "for q in num_cols_log1:\n",
    "    data_log1[q] = data_log1[q].apply(lambda w: np.log(w + 1))\n",
    "    \n",
    "data_log1[num_cols_log1].hist(figsize=(10, 8), bins=100)"
   ]
  },
  {
   "cell_type": "markdown",
   "metadata": {},
   "source": [
    "особо стоит отметить изменение распределения даных по доходам, даные по возрасту стали более сглаженными, а кредитный рейтинг в БКИ остался смещенным вправо, но при этом основная его масса можно сказать, что распредлена нормально"
   ]
  },
  {
   "cell_type": "markdown",
   "metadata": {},
   "source": [
    "числовые данные имеют влияние на показатель благонадежности, рассмотрим насколько они коррелируют между собой и на целевой показатель в целом. Для этого построим тепловую карту корреляции "
   ]
  },
  {
   "cell_type": "code",
   "execution_count": 88,
   "metadata": {
    "execution": {
     "iopub.execute_input": "2021-09-15T20:21:11.106248Z",
     "iopub.status.busy": "2021-09-15T20:21:11.105932Z",
     "iopub.status.idle": "2021-09-15T20:21:11.462308Z",
     "shell.execute_reply": "2021-09-15T20:21:11.461588Z",
     "shell.execute_reply.started": "2021-09-15T20:21:11.106214Z"
    }
   },
   "outputs": [
    {
     "data": {
      "text/plain": [
       "<AxesSubplot:>"
      ]
     },
     "execution_count": 88,
     "metadata": {},
     "output_type": "execute_result"
    },
    {
     "data": {
      "image/png": "[encoded data removed]",
      "text/plain": [
       "<Figure size 432x288 with 2 Axes>"
      ]
     },
     "metadata": {
      "needs_background": "light"
     },
     "output_type": "display_data"
    }
   ],
   "source": [
    "sns.heatmap(data[num_cols].corr().abs(), vmin=0, vmax=1, square=True,\n",
    "              annot=True, fmt=\".3f\", linewidths=0.1)"
   ]
  },
  {
   "cell_type": "markdown",
   "metadata": {},
   "source": [
    "возраст, несомненно, напрямую влияет на наши признаки, но также следует заметить, что показатель количества запросов в БКИ и показатель отказов в кредите в прошлом достаточно тесно коррелируют между собой. Следует отметить взаимосвязь между кредитным рейтингом и показателем отказов, а также тем, как часто делали запрос в БКИ"
   ]
  },
  {
   "cell_type": "markdown",
   "metadata": {},
   "source": [
    "оценим значимость числовых переменных и выведем это в виде графика"
   ]
  },
  {
   "cell_type": "code",
   "execution_count": 89,
   "metadata": {
    "execution": {
     "iopub.execute_input": "2021-09-15T20:29:57.300500Z",
     "iopub.status.busy": "2021-09-15T20:29:57.300160Z",
     "iopub.status.idle": "2021-09-15T20:29:57.499676Z",
     "shell.execute_reply": "2021-09-15T20:29:57.498809Z",
     "shell.execute_reply.started": "2021-09-15T20:29:57.300465Z"
    }
   },
   "outputs": [
    {
     "data": {
      "text/plain": [
       "<AxesSubplot:>"
      ]
     },
     "execution_count": 89,
     "metadata": {},
     "output_type": "execute_result"
    },
    {
     "data": {
      "image/png": "[encoded data removed]",
      "text/plain": [
       "<Figure size 432x288 with 1 Axes>"
      ]
     },
     "metadata": {
      "needs_background": "light"
     },
     "output_type": "display_data"
    }
   ],
   "source": [
    "imp_num = pd.Series(f_classif(data[num_cols], data['default'])[0], index = num_cols)\n",
    "imp_num.sort_values(inplace = True)\n",
    "imp_num.plot(kind = 'barh')"
   ]
  },
  {
   "cell_type": "markdown",
   "metadata": {},
   "source": [
    "как видно наиболее значимым показателем для оценки благонадежных клиентов является кредитный рейтинг БКИ"
   ]
  },
  {
   "cell_type": "markdown",
   "metadata": {},
   "source": [
    "**1.2 Бинарные переменные**"
   ]
  },
  {
   "cell_type": "markdown",
   "metadata": {},
   "source": [
    "Бинарные признаки доступны для машинного обучения только в числовом формате, поэтому их, при необходимости, следует преобразовать"
   ]
  },
  {
   "cell_type": "code",
   "execution_count": 121,
   "metadata": {
    "execution": {
     "iopub.execute_input": "2021-09-15T20:58:54.037948Z",
     "iopub.status.busy": "2021-09-15T20:58:54.037616Z",
     "iopub.status.idle": "2021-09-15T20:58:54.058615Z",
     "shell.execute_reply": "2021-09-15T20:58:54.058026Z",
     "shell.execute_reply.started": "2021-09-15T20:58:54.037918Z"
    }
   },
   "outputs": [
    {
     "data": {
      "text/html": [
       "<div>\n",
       "<style scoped>\n",
       "    .dataframe tbody tr th:only-of-type {\n",
       "        vertical-align: middle;\n",
       "    }\n",
       "\n",
       "    .dataframe tbody tr th {\n",
       "        vertical-align: top;\n",
       "    }\n",
       "\n",
       "    .dataframe thead th {\n",
       "        text-align: right;\n",
       "    }\n",
       "</style>\n",
       "<table border=\"1\" class=\"dataframe\">\n",
       "  <thead>\n",
       "    <tr style=\"text-align: right;\">\n",
       "      <th></th>\n",
       "      <th>sex</th>\n",
       "      <th>car</th>\n",
       "      <th>car_type</th>\n",
       "      <th>foreign_passport</th>\n",
       "      <th>good_work</th>\n",
       "    </tr>\n",
       "  </thead>\n",
       "  <tbody>\n",
       "    <tr>\n",
       "      <th>44371</th>\n",
       "      <td>M</td>\n",
       "      <td>N</td>\n",
       "      <td>N</td>\n",
       "      <td>N</td>\n",
       "      <td>1</td>\n",
       "    </tr>\n",
       "    <tr>\n",
       "      <th>12221</th>\n",
       "      <td>F</td>\n",
       "      <td>Y</td>\n",
       "      <td>N</td>\n",
       "      <td>N</td>\n",
       "      <td>1</td>\n",
       "    </tr>\n",
       "    <tr>\n",
       "      <th>49107</th>\n",
       "      <td>M</td>\n",
       "      <td>N</td>\n",
       "      <td>N</td>\n",
       "      <td>N</td>\n",
       "      <td>0</td>\n",
       "    </tr>\n",
       "    <tr>\n",
       "      <th>45559</th>\n",
       "      <td>M</td>\n",
       "      <td>N</td>\n",
       "      <td>N</td>\n",
       "      <td>N</td>\n",
       "      <td>0</td>\n",
       "    </tr>\n",
       "    <tr>\n",
       "      <th>97018</th>\n",
       "      <td>F</td>\n",
       "      <td>Y</td>\n",
       "      <td>Y</td>\n",
       "      <td>N</td>\n",
       "      <td>0</td>\n",
       "    </tr>\n",
       "  </tbody>\n",
       "</table>\n",
       "</div>"
      ],
      "text/plain": [
       "      sex car car_type foreign_passport  good_work\n",
       "44371   M   N        N                N          1\n",
       "12221   F   Y        N                N          1\n",
       "49107   M   N        N                N          0\n",
       "45559   M   N        N                N          0\n",
       "97018   F   Y        Y                N          0"
      ]
     },
     "execution_count": 121,
     "metadata": {},
     "output_type": "execute_result"
    }
   ],
   "source": [
    "data[bin_cols].sample(5)"
   ]
  },
  {
   "cell_type": "code",
   "execution_count": 122,
   "metadata": {
    "execution": {
     "iopub.execute_input": "2021-09-15T21:37:37.167202Z",
     "iopub.status.busy": "2021-09-15T21:37:37.166905Z",
     "iopub.status.idle": "2021-09-15T21:37:37.195100Z",
     "shell.execute_reply": "2021-09-15T21:37:37.194083Z",
     "shell.execute_reply.started": "2021-09-15T21:37:37.167172Z"
    }
   },
   "outputs": [
    {
     "name": "stdout",
     "output_type": "stream",
     "text": [
      "{0: 'F', 1: 'M'}\n"
     ]
    }
   ],
   "source": [
    "#для начала проебразуем признак пола. Присвоим женщинам 0, а мужчинам 1\n",
    "label_encoder = LabelEncoder()\n",
    "\n",
    "mapped_education = pd.Series(label_encoder.fit_transform(data['sex']))\n",
    "print(dict(enumerate(label_encoder.classes_)))"
   ]
  },
  {
   "cell_type": "code",
   "execution_count": 123,
   "metadata": {
    "execution": {
     "iopub.execute_input": "2021-09-15T21:37:39.562810Z",
     "iopub.status.busy": "2021-09-15T21:37:39.562487Z",
     "iopub.status.idle": "2021-09-15T21:37:39.689663Z",
     "shell.execute_reply": "2021-09-15T21:37:39.688844Z",
     "shell.execute_reply.started": "2021-09-15T21:37:39.562781Z"
    }
   },
   "outputs": [
    {
     "data": {
      "text/html": [
       "<div>\n",
       "<style scoped>\n",
       "    .dataframe tbody tr th:only-of-type {\n",
       "        vertical-align: middle;\n",
       "    }\n",
       "\n",
       "    .dataframe tbody tr th {\n",
       "        vertical-align: top;\n",
       "    }\n",
       "\n",
       "    .dataframe thead th {\n",
       "        text-align: right;\n",
       "    }\n",
       "</style>\n",
       "<table border=\"1\" class=\"dataframe\">\n",
       "  <thead>\n",
       "    <tr style=\"text-align: right;\">\n",
       "      <th></th>\n",
       "      <th>client_id</th>\n",
       "      <th>education</th>\n",
       "      <th>sex</th>\n",
       "      <th>age</th>\n",
       "      <th>car</th>\n",
       "      <th>car_type</th>\n",
       "      <th>decline_app_cnt</th>\n",
       "      <th>good_work</th>\n",
       "      <th>score_bki</th>\n",
       "      <th>bki_request_cnt</th>\n",
       "      <th>...</th>\n",
       "      <th>home_address</th>\n",
       "      <th>work_address</th>\n",
       "      <th>income</th>\n",
       "      <th>sna</th>\n",
       "      <th>first_time</th>\n",
       "      <th>foreign_passport</th>\n",
       "      <th>sample</th>\n",
       "      <th>default</th>\n",
       "      <th>app_month</th>\n",
       "      <th>days</th>\n",
       "    </tr>\n",
       "  </thead>\n",
       "  <tbody>\n",
       "    <tr>\n",
       "      <th>27758</th>\n",
       "      <td>60733</td>\n",
       "      <td>SCH</td>\n",
       "      <td>0</td>\n",
       "      <td>41</td>\n",
       "      <td>0</td>\n",
       "      <td>0</td>\n",
       "      <td>0</td>\n",
       "      <td>0</td>\n",
       "      <td>-2.321621</td>\n",
       "      <td>2</td>\n",
       "      <td>...</td>\n",
       "      <td>1</td>\n",
       "      <td>2</td>\n",
       "      <td>18000</td>\n",
       "      <td>1</td>\n",
       "      <td>4</td>\n",
       "      <td>0</td>\n",
       "      <td>0</td>\n",
       "      <td>0</td>\n",
       "      <td>3</td>\n",
       "      <td>68</td>\n",
       "    </tr>\n",
       "    <tr>\n",
       "      <th>79248</th>\n",
       "      <td>81893</td>\n",
       "      <td>UGR</td>\n",
       "      <td>1</td>\n",
       "      <td>51</td>\n",
       "      <td>1</td>\n",
       "      <td>0</td>\n",
       "      <td>0</td>\n",
       "      <td>0</td>\n",
       "      <td>-2.269924</td>\n",
       "      <td>0</td>\n",
       "      <td>...</td>\n",
       "      <td>1</td>\n",
       "      <td>2</td>\n",
       "      <td>15000</td>\n",
       "      <td>1</td>\n",
       "      <td>4</td>\n",
       "      <td>0</td>\n",
       "      <td>1</td>\n",
       "      <td>0</td>\n",
       "      <td>3</td>\n",
       "      <td>88</td>\n",
       "    </tr>\n",
       "    <tr>\n",
       "      <th>46315</th>\n",
       "      <td>53852</td>\n",
       "      <td>GRD</td>\n",
       "      <td>0</td>\n",
       "      <td>23</td>\n",
       "      <td>1</td>\n",
       "      <td>1</td>\n",
       "      <td>0</td>\n",
       "      <td>0</td>\n",
       "      <td>-1.810874</td>\n",
       "      <td>0</td>\n",
       "      <td>...</td>\n",
       "      <td>2</td>\n",
       "      <td>3</td>\n",
       "      <td>45000</td>\n",
       "      <td>4</td>\n",
       "      <td>3</td>\n",
       "      <td>0</td>\n",
       "      <td>1</td>\n",
       "      <td>0</td>\n",
       "      <td>3</td>\n",
       "      <td>61</td>\n",
       "    </tr>\n",
       "    <tr>\n",
       "      <th>59768</th>\n",
       "      <td>39684</td>\n",
       "      <td>SCH</td>\n",
       "      <td>0</td>\n",
       "      <td>46</td>\n",
       "      <td>0</td>\n",
       "      <td>0</td>\n",
       "      <td>2</td>\n",
       "      <td>1</td>\n",
       "      <td>-1.334758</td>\n",
       "      <td>0</td>\n",
       "      <td>...</td>\n",
       "      <td>1</td>\n",
       "      <td>2</td>\n",
       "      <td>20000</td>\n",
       "      <td>2</td>\n",
       "      <td>3</td>\n",
       "      <td>0</td>\n",
       "      <td>1</td>\n",
       "      <td>1</td>\n",
       "      <td>2</td>\n",
       "      <td>46</td>\n",
       "    </tr>\n",
       "    <tr>\n",
       "      <th>9486</th>\n",
       "      <td>56687</td>\n",
       "      <td>SCH</td>\n",
       "      <td>0</td>\n",
       "      <td>59</td>\n",
       "      <td>0</td>\n",
       "      <td>0</td>\n",
       "      <td>0</td>\n",
       "      <td>0</td>\n",
       "      <td>-1.276692</td>\n",
       "      <td>1</td>\n",
       "      <td>...</td>\n",
       "      <td>2</td>\n",
       "      <td>3</td>\n",
       "      <td>12650</td>\n",
       "      <td>1</td>\n",
       "      <td>3</td>\n",
       "      <td>0</td>\n",
       "      <td>0</td>\n",
       "      <td>0</td>\n",
       "      <td>3</td>\n",
       "      <td>63</td>\n",
       "    </tr>\n",
       "  </tbody>\n",
       "</table>\n",
       "<p>5 rows × 21 columns</p>\n",
       "</div>"
      ],
      "text/plain": [
       "       client_id education  sex  age  car  car_type  decline_app_cnt  \\\n",
       "27758      60733       SCH    0   41    0         0                0   \n",
       "79248      81893       UGR    1   51    1         0                0   \n",
       "46315      53852       GRD    0   23    1         1                0   \n",
       "59768      39684       SCH    0   46    0         0                2   \n",
       "9486       56687       SCH    0   59    0         0                0   \n",
       "\n",
       "       good_work  score_bki  bki_request_cnt  ...  home_address  work_address  \\\n",
       "27758          0  -2.321621                2  ...             1             2   \n",
       "79248          0  -2.269924                0  ...             1             2   \n",
       "46315          0  -1.810874                0  ...             2             3   \n",
       "59768          1  -1.334758                0  ...             1             2   \n",
       "9486           0  -1.276692                1  ...             2             3   \n",
       "\n",
       "       income  sna  first_time  foreign_passport  sample  default  app_month  \\\n",
       "27758   18000    1           4                 0       0        0          3   \n",
       "79248   15000    1           4                 0       1        0          3   \n",
       "46315   45000    4           3                 0       1        0          3   \n",
       "59768   20000    2           3                 0       1        1          2   \n",
       "9486    12650    1           3                 0       0        0          3   \n",
       "\n",
       "       days  \n",
       "27758    68  \n",
       "79248    88  \n",
       "46315    61  \n",
       "59768    46  \n",
       "9486     63  \n",
       "\n",
       "[5 rows x 21 columns]"
      ]
     },
     "execution_count": 123,
     "metadata": {},
     "output_type": "execute_result"
    }
   ],
   "source": [
    "# с помощью LabelEncoder преобразуем все бинарные переменные в числовые\n",
    "label_encoder = LabelEncoder()\n",
    "for column in bin_cols:\n",
    "    data[column] = label_encoder.fit_transform(data[column])\n",
    "    \n",
    "# убедимся в преобразовании    \n",
    "data.sample(5)"
   ]
  },
  {
   "cell_type": "markdown",
   "metadata": {},
   "source": [
    "**1.3 Категориальные признаки**"
   ]
  },
  {
   "cell_type": "code",
   "execution_count": 93,
   "metadata": {},
   "outputs": [
    {
     "data": {
      "text/plain": [
       "31    4084\n",
       "28    4035\n",
       "30    4035\n",
       "27    3964\n",
       "29    3940\n",
       "26    3780\n",
       "32    3773\n",
       "34    3548\n",
       "33    3499\n",
       "35    3386\n",
       "25    3292\n",
       "36    3228\n",
       "37    3185\n",
       "39    3095\n",
       "38    3070\n",
       "40    2950\n",
       "42    2857\n",
       "41    2804\n",
       "24    2780\n",
       "43    2672\n",
       "44    2536\n",
       "23    2295\n",
       "45    2235\n",
       "50    2104\n",
       "46    2102\n",
       "48    2084\n",
       "47    2074\n",
       "52    2065\n",
       "51    2015\n",
       "53    1980\n",
       "49    1964\n",
       "54    1911\n",
       "55    1837\n",
       "56    1641\n",
       "57    1578\n",
       "22    1415\n",
       "58    1373\n",
       "59    1340\n",
       "21    1262\n",
       "60    1236\n",
       "61     975\n",
       "62     885\n",
       "63     720\n",
       "64     663\n",
       "65     618\n",
       "66     442\n",
       "67     382\n",
       "68     261\n",
       "69     110\n",
       "70      60\n",
       "71       6\n",
       "72       2\n",
       "Name: age, dtype: int64"
      ]
     },
     "execution_count": 93,
     "metadata": {},
     "output_type": "execute_result"
    }
   ],
   "source": [
    "# рассмотрим, что собой представляют данные о возрасте\n",
    "data['age'].value_counts()"
   ]
  },
  {
   "cell_type": "code",
   "execution_count": 124,
   "metadata": {},
   "outputs": [
    {
     "data": {
      "text/plain": [
       "2    34736\n",
       "1    26644\n",
       "3    26257\n",
       "4    21993\n",
       "Name: category_age, dtype: int64"
      ]
     },
     "execution_count": 124,
     "metadata": {},
     "output_type": "execute_result"
    }
   ],
   "source": [
    "# разделим данные на возрастные категории\n",
    "def category(x): #присвоим каждому возрастному периоду номер\n",
    "    if 20 <= x <= 29:\n",
    "        return 1\n",
    "    elif 30 <= x <= 39:\n",
    "        return 2\n",
    "    elif 40 <= x <= 50:\n",
    "        return 3\n",
    "    elif 51 <= x <= 72:\n",
    "        return 4\n",
    "        \n",
    "data['category_age'] = data['age'].apply(category)\n",
    "data['category_age'].value_counts()"
   ]
  },
  {
   "cell_type": "code",
   "execution_count": 126,
   "metadata": {},
   "outputs": [
    {
     "data": {
      "text/plain": [
       "['education',\n",
       " 'region_rating',\n",
       " 'home_address',\n",
       " 'work_address',\n",
       " 'sna',\n",
       " 'first_time',\n",
       " 'app_month',\n",
       " 'category_age',\n",
       " 'category_age']"
      ]
     },
     "execution_count": 126,
     "metadata": {},
     "output_type": "execute_result"
    }
   ],
   "source": [
    "#и сразу же добавляем новый категориальный признак в список\n",
    "cat_cols.append('category_age')\n",
    "cat_cols"
   ]
  },
  {
   "cell_type": "markdown",
   "metadata": {},
   "source": [
    "рассмотрим образование клиентов"
   ]
  },
  {
   "cell_type": "code",
   "execution_count": 128,
   "metadata": {},
   "outputs": [
    {
     "data": {
      "text/plain": [
       "SCH    58250\n",
       "GRD    34570\n",
       "UGR    14666\n",
       "PGR     1857\n",
       "ACD      287\n",
       "Name: education, dtype: int64"
      ]
     },
     "execution_count": 128,
     "metadata": {},
     "output_type": "execute_result"
    }
   ],
   "source": [
    "data['education'].value_counts()"
   ]
  },
  {
   "cell_type": "markdown",
   "metadata": {},
   "source": [
    "из приведенных выше данных видно, что параметр образования представлен не в числовом формате, что будет помехой в дальнейшей подготовке датасета для анализа. Соответственно, нам необходимо преобразовать этот признак в числовой"
   ]
  },
  {
   "cell_type": "code",
   "execution_count": 129,
   "metadata": {
    "execution": {
     "iopub.execute_input": "2021-09-15T21:37:44.204938Z",
     "iopub.status.busy": "2021-09-15T21:37:44.204625Z",
     "iopub.status.idle": "2021-09-15T21:37:44.276234Z",
     "shell.execute_reply": "2021-09-15T21:37:44.275560Z",
     "shell.execute_reply.started": "2021-09-15T21:37:44.204902Z"
    }
   },
   "outputs": [
    {
     "data": {
      "text/plain": [
       "0    58250\n",
       "1    34570\n",
       "2    14666\n",
       "3     1857\n",
       "4      287\n",
       "Name: education, dtype: int64"
      ]
     },
     "execution_count": 129,
     "metadata": {},
     "output_type": "execute_result"
    }
   ],
   "source": [
    "def education(x): #присвоим каждому уровню образования номер\n",
    "    if x == 'SCH':\n",
    "        return 0 #школа\n",
    "    elif x == 'GRD':\n",
    "        return 1 #высшее образование/бакалавр\n",
    "    elif x == 'UGR':\n",
    "        return 2 #высшее образование/магистр\n",
    "    elif x == 'PGR':\n",
    "        return 3 #ученая степень\n",
    "    elif x == 'ACD':\n",
    "        return 4 #академическое образование\n",
    "data['education'] = data['education'].apply(education)\n",
    "data['education'].value_counts()"
   ]
  },
  {
   "cell_type": "code",
   "execution_count": 130,
   "metadata": {},
   "outputs": [
    {
     "data": {
      "text/plain": [
       "['education',\n",
       " 'region_rating',\n",
       " 'home_address',\n",
       " 'work_address',\n",
       " 'sna',\n",
       " 'first_time',\n",
       " 'app_month',\n",
       " 'category_age']"
      ]
     },
     "execution_count": 130,
     "metadata": {},
     "output_type": "execute_result"
    }
   ],
   "source": [
    "cat_cols"
   ]
  },
  {
   "cell_type": "markdown",
   "metadata": {},
   "source": [
    "теперь можем сопоставить значимость бинарых и категориальных признаков с помощью функции mutual_info_classif из библиотеки sklearn"
   ]
  },
  {
   "cell_type": "code",
   "execution_count": 131,
   "metadata": {
    "execution": {
     "iopub.execute_input": "2021-09-15T22:46:56.041895Z",
     "iopub.status.busy": "2021-09-15T22:46:56.040997Z",
     "iopub.status.idle": "2021-09-15T22:46:56.437153Z",
     "shell.execute_reply": "2021-09-15T22:46:56.436207Z",
     "shell.execute_reply.started": "2021-09-15T22:46:56.041852Z"
    }
   },
   "outputs": [
    {
     "data": {
      "text/plain": [
       "<AxesSubplot:>"
      ]
     },
     "execution_count": 131,
     "metadata": {},
     "output_type": "execute_result"
    },
    {
     "data": {
      "image/png": "[encoded data removed]",
      "text/plain": [
       "<Figure size 432x288 with 1 Axes>"
      ]
     },
     "metadata": {
      "needs_background": "light"
     },
     "output_type": "display_data"
    }
   ],
   "source": [
    "imp_cat = Series(mutual_info_classif(data[bin_cols + cat_cols], data['default'], discrete_features =True), index = bin_cols + cat_cols)\n",
    "imp_cat.sort_values(inplace = True)\n",
    "imp_cat.plot(kind = 'barh')"
   ]
  },
  {
   "cell_type": "markdown",
   "metadata": {},
   "source": [
    "как видно, наиболее важен оказался признак связи заемщика с клиентами банка, а наименее - пол клиента"
   ]
  },
  {
   "cell_type": "markdown",
   "metadata": {},
   "source": [
    "для более точного построения модели необходимо преобразовать категориальные показатели в бинарные. Для этого воспользуемся методом One-Hot Encoding, он как и dummy-переменные преобразовывает данные в бинарный формат"
   ]
  },
  {
   "cell_type": "code",
   "execution_count": 132,
   "metadata": {
    "execution": {
     "iopub.execute_input": "2021-09-15T22:54:35.699411Z",
     "iopub.status.busy": "2021-09-15T22:54:35.699113Z",
     "iopub.status.idle": "2021-09-15T22:54:35.778772Z",
     "shell.execute_reply": "2021-09-15T22:54:35.777912Z",
     "shell.execute_reply.started": "2021-09-15T22:54:35.699379Z"
    }
   },
   "outputs": [
    {
     "data": {
      "text/plain": [
       "(109630, 34)"
      ]
     },
     "execution_count": 132,
     "metadata": {},
     "output_type": "execute_result"
    }
   ],
   "source": [
    "X_cat = OneHotEncoder(sparse = False).fit_transform(data[cat_cols].values)\n",
    "X_cat.shape"
   ]
  },
  {
   "cell_type": "code",
   "execution_count": 133,
   "metadata": {
    "execution": {
     "iopub.execute_input": "2021-09-15T22:53:13.766328Z",
     "iopub.status.busy": "2021-09-15T22:53:13.765263Z",
     "iopub.status.idle": "2021-09-15T22:53:13.790342Z",
     "shell.execute_reply": "2021-09-15T22:53:13.789283Z",
     "shell.execute_reply.started": "2021-09-15T22:53:13.766282Z"
    }
   },
   "outputs": [
    {
     "data": {
      "text/plain": [
       "(109630, 6)"
      ]
     },
     "execution_count": 133,
     "metadata": {},
     "output_type": "execute_result"
    }
   ],
   "source": [
    "#Стандартизируем числовые переменные\n",
    "X_num = StandardScaler().fit_transform(data[num_cols].values)\n",
    "X_num.shape"
   ]
  },
  {
   "cell_type": "code",
   "execution_count": 134,
   "metadata": {
    "execution": {
     "iopub.execute_input": "2021-09-15T22:54:43.716235Z",
     "iopub.status.busy": "2021-09-15T22:54:43.715942Z",
     "iopub.status.idle": "2021-09-15T22:54:43.780111Z",
     "shell.execute_reply": "2021-09-15T22:54:43.779285Z",
     "shell.execute_reply.started": "2021-09-15T22:54:43.716204Z"
    }
   },
   "outputs": [],
   "source": [
    "#oбъединим стандартизованные числовые, бинарные и закодированные категориальные переменные\n",
    "X = np.hstack([X_num, data[bin_cols].values, X_cat])\n",
    "Y = data['default'] #выделяем целевую переменную"
   ]
  },
  {
   "cell_type": "markdown",
   "metadata": {},
   "source": [
    "строим логистическую модель"
   ]
  },
  {
   "cell_type": "code",
   "execution_count": 146,
   "metadata": {
    "execution": {
     "iopub.execute_input": "2021-09-15T22:54:46.997664Z",
     "iopub.status.busy": "2021-09-15T22:54:46.997007Z",
     "iopub.status.idle": "2021-09-15T22:54:49.199921Z",
     "shell.execute_reply": "2021-09-15T22:54:49.195932Z",
     "shell.execute_reply.started": "2021-09-15T22:54:46.997617Z"
    }
   },
   "outputs": [
    {
     "name": "stderr",
     "output_type": "stream",
     "text": [
      "C:\\Users\\007\\anaconda3\\lib\\site-packages\\sklearn\\linear_model\\_logistic.py:762: ConvergenceWarning: lbfgs failed to converge (status=1):\n",
      "STOP: TOTAL NO. of ITERATIONS REACHED LIMIT.\n",
      "\n",
      "Increase the number of iterations (max_iter) or scale the data as shown in:\n",
      "    https://scikit-learn.org/stable/modules/preprocessing.html\n",
      "Please also refer to the documentation for alternative solver options:\n",
      "    https://scikit-learn.org/stable/modules/linear_model.html#logistic-regression\n",
      "  n_iter_i = _check_optimize_result(\n"
     ]
    },
    {
     "data": {
      "image/png": "[encoded data removed]",
      "text/plain": [
       "<Figure size 432x288 with 1 Axes>"
      ]
     },
     "metadata": {
      "needs_background": "light"
     },
     "output_type": "display_data"
    }
   ],
   "source": [
    "X_train, X_test, y_train, y_test = train_test_split(X, Y, test_size=0.20, random_state=42)\n",
    "\n",
    "model_log_reg = LogisticRegression()\n",
    "model_log_reg.fit(X_train, y_train)\n",
    "\n",
    "Y_pred_prob = model_log_reg.predict_proba(X_test)[:, 1]\n",
    "y_pred = model_log_reg.predict(X_test)\n",
    "\n",
    "roc_auc1 = roc_auc_score(y_test, Y_pred_prob)\n",
    "fpr, tpr, threshold = roc_curve(y_test, Y_pred_prob)\n",
    "\n",
    "plt.figure()\n",
    "plt.plot([0, 1], label='Baseline', linestyle='--')\n",
    "plt.plot(fpr, tpr, label = 'Regression')\n",
    "plt.title('Logistic Regression ROC AUC = %0.4f' % roc_auc1)\n",
    "plt.ylabel('True Positive Rate')\n",
    "plt.xlabel('False Positive Rate')\n",
    "plt.legend(loc = 'lower right')\n",
    "plt.show()"
   ]
  },
  {
   "cell_type": "code",
   "execution_count": 179,
   "metadata": {},
   "outputs": [
    {
     "name": "stdout",
     "output_type": "stream",
     "text": [
      "accuracy_score: 0.9149\n",
      "precision_score: 0.3333\n",
      "recall_score: 0.0021\n",
      "f1_score: 0.0043\n"
     ]
    }
   ],
   "source": [
    "#выведем основные метрики\n",
    "print('accuracy_score: {}'.format(np.round(accuracy_score(y_test, y_pred), 4)))\n",
    "print('precision_score: {}'.format(np.round(precision_score(y_test, y_pred), 4)))\n",
    "print('recall_score: {}'.format(np.round(recall_score(y_test, y_pred), 4)))\n",
    "print('f1_score: {}'.format(np.round(f1_score(y_test, y_pred), 4)))"
   ]
  },
  {
   "cell_type": "code",
   "execution_count": 137,
   "metadata": {},
   "outputs": [
    {
     "data": {
      "image/png": "[encoded data removed]",
      "text/plain": [
       "<Figure size 432x288 with 2 Axes>"
      ]
     },
     "metadata": {
      "needs_background": "light"
     },
     "output_type": "display_data"
    }
   ],
   "source": [
    "# Визуализация confusion matrix:\n",
    "sns.set_context(context='paper', font_scale=2, rc=None)\n",
    "group_names = ['True Pos', 'False Pos', 'False Neg', 'True Neg']\n",
    "group_counts = ['{0:0.0f}'.format(value) for value in\n",
    "                confusion_matrix(y_test, y_pred).flatten()]\n",
    "labels = [f'{v1}\\n{v2}' for v1, v2 in\n",
    "          zip(group_names, group_counts)]\n",
    "labels = np.asarray(labels).reshape(2, 2)\n",
    "ax = sns.heatmap(confusion_matrix(y_test, y_pred), annot=labels, fmt='', cmap='Greens')\n",
    "ax.set(xlabel='predicted', ylabel='real',title = 'Confusion matrix')\n",
    "plt.show()\n"
   ]
  },
  {
   "cell_type": "code",
   "execution_count": 145,
   "metadata": {},
   "outputs": [
    {
     "name": "stderr",
     "output_type": "stream",
     "text": [
      "C:\\Users\\007\\anaconda3\\lib\\site-packages\\sklearn\\svm\\_base.py:976: ConvergenceWarning: Liblinear failed to converge, increase the number of iterations.\n",
      "  warnings.warn(\"Liblinear failed to converge, increase \"\n"
     ]
    },
    {
     "name": "stdout",
     "output_type": "stream",
     "text": [
      "Лучшее Penalty: l1\n",
      "Лучшее C: 10000.0\n"
     ]
    },
    {
     "data": {
      "image/png": "[encoded data removed]",
      "text/plain": [
       "<Figure size 720x360 with 1 Axes>"
      ]
     },
     "metadata": {
      "needs_background": "light"
     },
     "output_type": "display_data"
    }
   ],
   "source": [
    "\n",
    "from sklearn.model_selection import GridSearchCV\n",
    "\n",
    "# Добавим типы регуляризации\n",
    "penalty = ['l1', 'l2']\n",
    "\n",
    "# Зададим ограничения для параметра регуляризации\n",
    "C = np.logspace(0, 4, 2)\n",
    "max_iter = [30, 50, 100]\n",
    "\n",
    "# Создадим гиперпараметры\n",
    "hyperparameters = dict(C=C, penalty=penalty, max_iter = max_iter)\n",
    "\n",
    "model = LogisticRegression(solver='liblinear', class_weight='balanced')\n",
    "model.fit(X_train, y_train)\n",
    "\n",
    "# Создаем сетку поиска с использованием 5-кратной перекрестной проверки\n",
    "clf = GridSearchCV(model, hyperparameters, cv=5, verbose=0)\n",
    "\n",
    "best_model = clf.fit(X_train, y_train)\n",
    "\n",
    "# View best hyperparameters\n",
    "print('Лучшее Penalty:', best_model.best_estimator_.get_params()['penalty'])\n",
    "print('Лучшее C:', best_model.best_estimator_.get_params()['C'])\n",
    "\n",
    "Y_prob_hp = best_model.predict_proba(X_test)[:, 1]\n",
    "y_pred_hp = best_model.predict(X_test)\n",
    "\n",
    "roc_auc2 = roc_auc_score(y_test, Y_prob_hp)\n",
    "fpr, tpr, threshold = roc_curve(y_test, Y_prob_hp)\n",
    "\n",
    "fig, ax = plt.subplots(figsize=(10,5))\n",
    "plt.plot([0, 1], label='Baseline', linestyle='--')\n",
    "plt.plot(fpr, tpr, label = 'Regression')\n",
    "ax.set_title('Logistic Regression ROC AUC = %0.4f'%roc_auc2)\n",
    "plt.ylabel('True Positive Rate')\n",
    "plt.xlabel('False Positive Rate')\n",
    "plt.legend(loc='lower right')\n",
    "plt.show()"
   ]
  },
  {
   "cell_type": "code",
   "execution_count": 180,
   "metadata": {},
   "outputs": [
    {
     "name": "stdout",
     "output_type": "stream",
     "text": [
      "accuracy_score: 0.6617\n",
      "precison_score: 0.1519\n",
      "recall_score: 0.6509\n",
      "f1_score: 0.2463\n"
     ]
    }
   ],
   "source": [
    "#выведем основные метрики\n",
    "print('accuracy_score: {}'.format(np.round(accuracy_score(y_test, y_pred_hp), 4)))\n",
    "print('precison_score: {}'.format(np.round(precision_score(y_test, y_pred_hp), 4)))\n",
    "print('recall_score: {}'.format(np.round(recall_score(y_test, y_pred_hp), 4)))\n",
    "print('f1_score: {}'.format(np.round(f1_score(y_test, y_pred_hp), 4)))"
   ]
  },
  {
   "cell_type": "code",
   "execution_count": 142,
   "metadata": {},
   "outputs": [
    {
     "data": {
      "image/png": "[encoded data removed]",
      "text/plain": [
       "<Figure size 432x288 with 2 Axes>"
      ]
     },
     "metadata": {
      "needs_background": "light"
     },
     "output_type": "display_data"
    }
   ],
   "source": [
    "# Визуализация confusion matrix:\n",
    "sns.set_context(context='paper', font_scale=2, rc=None)\n",
    "group_names = ['True Pos', 'False Pos', 'False Neg', 'True Neg']\n",
    "group_counts = ['{0:0.0f}'.format(value) for value in\n",
    "                confusion_matrix(y_test, y_pred_hp).flatten()]\n",
    "labels = [f'{v1}\\n{v2}' for v1, v2 in\n",
    "          zip(group_names, group_counts)]\n",
    "labels = np.asarray(labels).reshape(2, 2)\n",
    "ax = sns.heatmap(confusion_matrix(y_test, y_pred_hp), annot=labels, fmt='', cmap='Greens')\n",
    "ax.set(xlabel='predicted', ylabel='real',title = 'Confusion matrix')\n",
    "plt.show()\n"
   ]
  },
  {
   "cell_type": "markdown",
   "metadata": {},
   "source": [
    "сравнивая  метрики оценки качества моделей в исходной модели и модели с гиперпараметрами, видно, что параметр ROC AUC не изменился, но при этом значительно изменились метрики полноты и точности и их сводная метрика f1, что говорит о благоприятном влиянии использования гиперпараметров при посторении модели. Что касается матрицы ошибок, то здесь показатель TP (когда дефолт классифируется как дефолт) значительно уменьшился, т.е модель более точно предсказывает вероятность того, что кредит окажется невозвратным"
   ]
  },
  {
   "cell_type": "markdown",
   "metadata": {},
   "source": [
    "попробуем сбалансировать выборку при помощи undersampling"
   ]
  },
  {
   "cell_type": "code",
   "execution_count": 175,
   "metadata": {},
   "outputs": [
    {
     "data": {
      "text/plain": [
       "<AxesSubplot:xlabel='default', ylabel='count'>"
      ]
     },
     "execution_count": 175,
     "metadata": {},
     "output_type": "execute_result"
    },
    {
     "data": {
      "image/png": "[encoded data removed]",
      "text/plain": [
       "<Figure size 432x288 with 1 Axes>"
      ]
     },
     "metadata": {
      "needs_background": "light"
     },
     "output_type": "display_data"
    }
   ],
   "source": [
    "#сделаем эту же выборку сбалансированной с помощью undersampling\n",
    "from matplotlib import pyplot as plt\n",
    "import seaborn as sns\n",
    "%matplotlib inline\n",
    "sns.countplot(x='default', data=data)"
   ]
  },
  {
   "cell_type": "code",
   "execution_count": 176,
   "metadata": {},
   "outputs": [
    {
     "data": {
      "text/plain": [
       "0    100366\n",
       "1      9264\n",
       "Name: default, dtype: int64"
      ]
     },
     "execution_count": 176,
     "metadata": {},
     "output_type": "execute_result"
    }
   ],
   "source": [
    "data['default'].value_counts()"
   ]
  },
  {
   "cell_type": "code",
   "execution_count": 174,
   "metadata": {},
   "outputs": [
    {
     "data": {
      "image/png": "[encoded data removed]",
      "text/plain": [
       "<Figure size 720x360 with 1 Axes>"
      ]
     },
     "metadata": {
      "needs_background": "light"
     },
     "output_type": "display_data"
    }
   ],
   "source": [
    "data_bal = data[data.default == 0][:9264].append(data[data.default == 1])\n",
    "Y_bal = data_bal['default']\n",
    "X_bal = data_bal.drop('default',axis = 1)\n",
    "X_train_bal, X_test_bal, Y_train_bal, Y_test_bal = train_test_split(X_bal, Y_bal, test_size=0.20, random_state=42)\n",
    "\n",
    "clf = LogisticRegression()\n",
    "bal_model = clf.fit(X_train_bal, Y_train_bal)\n",
    "\n",
    "Y_prob_bal = bal_model.predict_proba(X_test_bal)[:, 1]\n",
    "y_pred_bal = bal_model.predict(X_test_bal)\n",
    "\n",
    "roc_auc3 = roc_auc_score(Y_test_bal, Y_prob_bal)\n",
    "fpr, tpr, threshold = roc_curve(Y_test_bal, Y_prob_bal)\n",
    "\n",
    "fig, ax = plt.subplots(figsize=(10,5))\n",
    "plt.plot([0, 1], label='Baseline', linestyle='--')\n",
    "plt.plot(fpr, tpr, label = 'Regression')\n",
    "ax.set_title('Logistic Regression ROC AUC = %0.4f'%roc_auc3)\n",
    "plt.ylabel('True Positive Rate')\n",
    "plt.xlabel('False Positive Rate')\n",
    "plt.legend(loc='lower right')\n",
    "plt.show()"
   ]
  },
  {
   "cell_type": "code",
   "execution_count": 182,
   "metadata": {},
   "outputs": [
    {
     "name": "stdout",
     "output_type": "stream",
     "text": [
      "accuracy_score: 0.4984\n",
      "precision_score: 0.3182\n",
      "recall_score: 0.0114\n",
      "f1_score: 0.0221\n"
     ]
    }
   ],
   "source": [
    "#выведем основные метрики\n",
    "print('accuracy_score: {}'.format(np.round(accuracy_score(Y_test_bal, clf.predict(X_test_bal)), 4)))\n",
    "print('precision_score: {}'.format(np.round(precision_score(Y_test_bal, clf.predict(X_test_bal)), 4)))\n",
    "print('recall_score: {}'.format(np.round(recall_score(Y_test_bal, clf.predict(X_test_bal)), 4)))\n",
    "print('f1_score: {}'.format(np.round(f1_score(Y_test_bal, clf.predict(X_test_bal)), 4)))"
   ]
  },
  {
   "cell_type": "code",
   "execution_count": 170,
   "metadata": {},
   "outputs": [
    {
     "data": {
      "image/png": "[encoded data removed]",
      "text/plain": [
       "<Figure size 432x288 with 2 Axes>"
      ]
     },
     "metadata": {
      "needs_background": "light"
     },
     "output_type": "display_data"
    }
   ],
   "source": [
    "# Визуализация confusion matrix:\n",
    "sns.set_context(context='paper', font_scale=2, rc=None)\n",
    "group_names = ['True Pos', 'False Pos', 'False Neg', 'True Neg']\n",
    "group_counts = ['{0:0.0f}'.format(value) for value in\n",
    "                confusion_matrix(Y_test_bal, y_pred_bal).flatten()]\n",
    "labels = [f'{v1}\\n{v2}' for v1, v2 in\n",
    "          zip(group_names, group_counts)]\n",
    "labels = np.asarray(labels).reshape(2, 2)\n",
    "ax = sns.heatmap(confusion_matrix(Y_test_bal, y_pred_bal), annot=labels, fmt='', cmap='Greens')\n",
    "ax.set(xlabel='predicted', ylabel='real',title = 'Confusion matrix')\n",
    "plt.show()"
   ]
  },
  {
   "cell_type": "markdown",
   "metadata": {},
   "source": [
    "результат сбалансирования нашей выборки при помощи undersampling показал, что показатели метрик классификации уменьшились, но при этом confusion matrix показывает результат, исход которого наиболее вероятен"
   ]
  }
 ],
 "metadata": {
  "kernelspec": {
   "display_name": "Python 3",
   "language": "python",
   "name": "python3"
  },
  "language_info": {
   "codemirror_mode": {
    "name": "ipython",
    "version": 3
   },
   "file_extension": ".py",
   "mimetype": "text/x-python",
   "name": "python",
   "nbconvert_exporter": "python",
   "pygments_lexer": "ipython3",
   "version": "3.8.5"
  }
 },
 "nbformat": 4,
 "nbformat_minor": 4
}
