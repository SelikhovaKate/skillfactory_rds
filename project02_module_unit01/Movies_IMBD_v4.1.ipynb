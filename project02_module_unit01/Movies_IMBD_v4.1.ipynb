{
 "cells": [
  {
   "cell_type": "code",
   "execution_count": 90,
   "metadata": {},
   "outputs": [],
   "source": [
    "import numpy as np\n",
    "import pandas as pd\n",
    "import seaborn as sns\n",
    "import matplotlib.pyplot as plt\n",
    "from collections import Counter #вид словаря, который позволяет нам считать количество неизменяемых объектов\n",
    "from itertools  import combinations #библиотека итераторов, в частности combinations позволяет составлять все комбинации данных \n",
    "                                    #пример: combinations('ABCD', 2) --> AB AC AD BC BD CD, где 2 - длина комбинации"
   ]
  },
  {
   "cell_type": "code",
   "execution_count": 103,
   "metadata": {},
   "outputs": [
    {
     "data": {
      "text/html": [
       "<div>\n",
       "<style scoped>\n",
       "    .dataframe tbody tr th:only-of-type {\n",
       "        vertical-align: middle;\n",
       "    }\n",
       "\n",
       "    .dataframe tbody tr th {\n",
       "        vertical-align: top;\n",
       "    }\n",
       "\n",
       "    .dataframe thead th {\n",
       "        text-align: right;\n",
       "    }\n",
       "</style>\n",
       "<table border=\"1\" class=\"dataframe\">\n",
       "  <thead>\n",
       "    <tr style=\"text-align: right;\">\n",
       "      <th></th>\n",
       "      <th>imdb_id</th>\n",
       "      <th>budget</th>\n",
       "      <th>revenue</th>\n",
       "      <th>original_title</th>\n",
       "      <th>cast</th>\n",
       "      <th>director</th>\n",
       "      <th>tagline</th>\n",
       "      <th>overview</th>\n",
       "      <th>runtime</th>\n",
       "      <th>genres</th>\n",
       "      <th>production_companies</th>\n",
       "      <th>release_date</th>\n",
       "      <th>vote_average</th>\n",
       "      <th>release_year</th>\n",
       "    </tr>\n",
       "  </thead>\n",
       "  <tbody>\n",
       "    <tr>\n",
       "      <th>119</th>\n",
       "      <td>tt2015381</td>\n",
       "      <td>170000000</td>\n",
       "      <td>773312399</td>\n",
       "      <td>Guardians of the Galaxy</td>\n",
       "      <td>Chris Pratt|Zoe Saldana|Dave Bautista|Vin Dies...</td>\n",
       "      <td>James Gunn</td>\n",
       "      <td>All heroes start somewhere.</td>\n",
       "      <td>Light years from Earth, 26 years after being a...</td>\n",
       "      <td>121</td>\n",
       "      <td>Action|Science Fiction|Adventure</td>\n",
       "      <td>Marvel Studios|Moving Picture Company (MPC)|Bu...</td>\n",
       "      <td>7/30/2014</td>\n",
       "      <td>7.9</td>\n",
       "      <td>2014</td>\n",
       "    </tr>\n",
       "    <tr>\n",
       "      <th>153</th>\n",
       "      <td>tt1490017</td>\n",
       "      <td>60000000</td>\n",
       "      <td>469160692</td>\n",
       "      <td>The Lego Movie</td>\n",
       "      <td>Will Arnett|Elizabeth Banks|Craig Berry|Alison...</td>\n",
       "      <td>Phil Lord|Christopher Miller</td>\n",
       "      <td>The story of a nobody who saved everybody.</td>\n",
       "      <td>An ordinary Lego mini-figure, mistakenly thoug...</td>\n",
       "      <td>100</td>\n",
       "      <td>Adventure|Fantasy|Animation|Comedy|Action</td>\n",
       "      <td>Village Roadshow Pictures|DC Comics|Vertigo En...</td>\n",
       "      <td>2/6/2014</td>\n",
       "      <td>7.5</td>\n",
       "      <td>2014</td>\n",
       "    </tr>\n",
       "    <tr>\n",
       "      <th>817</th>\n",
       "      <td>tt0993842</td>\n",
       "      <td>30000000</td>\n",
       "      <td>63782078</td>\n",
       "      <td>Hanna</td>\n",
       "      <td>Saoirse Ronan|Eric Bana|Vicky Krieps|Cate Blan...</td>\n",
       "      <td>Joe Wright</td>\n",
       "      <td>Adapt or die.</td>\n",
       "      <td>A 16-year-old girl raised by her father to be ...</td>\n",
       "      <td>111</td>\n",
       "      <td>Action|Thriller|Adventure</td>\n",
       "      <td>Focus Features|Neunte Babelsberg Film|Focus Fe...</td>\n",
       "      <td>4/7/2011</td>\n",
       "      <td>6.5</td>\n",
       "      <td>2011</td>\n",
       "    </tr>\n",
       "    <tr>\n",
       "      <th>129</th>\n",
       "      <td>tt2713180</td>\n",
       "      <td>68000000</td>\n",
       "      <td>211817906</td>\n",
       "      <td>Fury</td>\n",
       "      <td>Brad Pitt|Shia LaBeouf|Logan Lerman|Michael Pe...</td>\n",
       "      <td>David Ayer</td>\n",
       "      <td>War never ends quietly.</td>\n",
       "      <td>Last months of World War II in April 1945. As ...</td>\n",
       "      <td>135</td>\n",
       "      <td>War|Drama|Action</td>\n",
       "      <td>Columbia Pictures|QED International|Crave Film...</td>\n",
       "      <td>10/15/2014</td>\n",
       "      <td>7.4</td>\n",
       "      <td>2014</td>\n",
       "    </tr>\n",
       "    <tr>\n",
       "      <th>833</th>\n",
       "      <td>tt1214962</td>\n",
       "      <td>17000000</td>\n",
       "      <td>12355798</td>\n",
       "      <td>Seeking Justice</td>\n",
       "      <td>Nicolas Cage|Guy Pearce|January Jones|Jennifer...</td>\n",
       "      <td>Roger Donaldson</td>\n",
       "      <td>Vengeance always has a price</td>\n",
       "      <td>After his wife is assaulted, a husband enlists...</td>\n",
       "      <td>105</td>\n",
       "      <td>Action|Drama|Thriller</td>\n",
       "      <td>Endgame Entertainment|Maguire Entertainment|Ra...</td>\n",
       "      <td>9/2/2011</td>\n",
       "      <td>5.9</td>\n",
       "      <td>2011</td>\n",
       "    </tr>\n",
       "  </tbody>\n",
       "</table>\n",
       "</div>"
      ],
      "text/plain": [
       "       imdb_id     budget    revenue           original_title  \\\n",
       "119  tt2015381  170000000  773312399  Guardians of the Galaxy   \n",
       "153  tt1490017   60000000  469160692           The Lego Movie   \n",
       "817  tt0993842   30000000   63782078                    Hanna   \n",
       "129  tt2713180   68000000  211817906                     Fury   \n",
       "833  tt1214962   17000000   12355798          Seeking Justice   \n",
       "\n",
       "                                                  cast  \\\n",
       "119  Chris Pratt|Zoe Saldana|Dave Bautista|Vin Dies...   \n",
       "153  Will Arnett|Elizabeth Banks|Craig Berry|Alison...   \n",
       "817  Saoirse Ronan|Eric Bana|Vicky Krieps|Cate Blan...   \n",
       "129  Brad Pitt|Shia LaBeouf|Logan Lerman|Michael Pe...   \n",
       "833  Nicolas Cage|Guy Pearce|January Jones|Jennifer...   \n",
       "\n",
       "                         director                                     tagline  \\\n",
       "119                    James Gunn                 All heroes start somewhere.   \n",
       "153  Phil Lord|Christopher Miller  The story of a nobody who saved everybody.   \n",
       "817                    Joe Wright                               Adapt or die.   \n",
       "129                    David Ayer                     War never ends quietly.   \n",
       "833               Roger Donaldson                Vengeance always has a price   \n",
       "\n",
       "                                              overview  runtime  \\\n",
       "119  Light years from Earth, 26 years after being a...      121   \n",
       "153  An ordinary Lego mini-figure, mistakenly thoug...      100   \n",
       "817  A 16-year-old girl raised by her father to be ...      111   \n",
       "129  Last months of World War II in April 1945. As ...      135   \n",
       "833  After his wife is assaulted, a husband enlists...      105   \n",
       "\n",
       "                                        genres  \\\n",
       "119           Action|Science Fiction|Adventure   \n",
       "153  Adventure|Fantasy|Animation|Comedy|Action   \n",
       "817                  Action|Thriller|Adventure   \n",
       "129                           War|Drama|Action   \n",
       "833                      Action|Drama|Thriller   \n",
       "\n",
       "                                  production_companies release_date  \\\n",
       "119  Marvel Studios|Moving Picture Company (MPC)|Bu...    7/30/2014   \n",
       "153  Village Roadshow Pictures|DC Comics|Vertigo En...     2/6/2014   \n",
       "817  Focus Features|Neunte Babelsberg Film|Focus Fe...     4/7/2011   \n",
       "129  Columbia Pictures|QED International|Crave Film...   10/15/2014   \n",
       "833  Endgame Entertainment|Maguire Entertainment|Ra...     9/2/2011   \n",
       "\n",
       "     vote_average  release_year  \n",
       "119           7.9          2014  \n",
       "153           7.5          2014  \n",
       "817           6.5          2011  \n",
       "129           7.4          2014  \n",
       "833           5.9          2011  "
      ]
     },
     "execution_count": 103,
     "metadata": {},
     "output_type": "execute_result"
    }
   ],
   "source": [
    "movie = pd.read_csv('movie_bd_v5.csv')\n",
    "movie.sample(5)"
   ]
  },
  {
   "cell_type": "code",
   "execution_count": null,
   "metadata": {},
   "outputs": [],
   "source": [
    "movie.describe()"
   ]
  },
  {
   "cell_type": "markdown",
   "metadata": {},
   "source": [
    "# Предобработка"
   ]
  },
  {
   "cell_type": "code",
   "execution_count": 108,
   "metadata": {},
   "outputs": [],
   "source": [
    "answers = {}\n",
    "\n",
    "movie['profit'] = movie['revenue'] - movie['budget'] #вычисляем прибыль\n",
    "\n",
    "movie['release_date'] = pd.to_datetime(movie['release_date']).dt.month #с помощью pd.to_datetime....dt.month переводим дату 'release_date'\n",
    "                                                                #в формат месяцев, где 1 - январь, 2 - февраль, .. 12 - декабрь\n",
    "\n",
    "def splitstring (string):          #функция для разложения серии датафрейма на составные элементы по разделителю '|'\n",
    "    result = string.str.split('|') #например \"Action|Adventure|Science Fiction|Thriller\" раскладывается на \n",
    "    return result                  # [Action, Adventure, Science Fiction, Thriller] "
   ]
  },
  {
   "cell_type": "markdown",
   "metadata": {},
   "source": [
    "# 1. У какого фильма из списка самый большой бюджет?"
   ]
  },
  {
   "cell_type": "code",
   "execution_count": 138,
   "metadata": {},
   "outputs": [],
   "source": [
    "answers['1'] = 'Pirates of the Caribbean: On Stranger Tides' # '+'"
   ]
  },
  {
   "cell_type": "code",
   "execution_count": 99,
   "metadata": {},
   "outputs": [
    {
     "data": {
      "text/plain": [
       "array(['Pirates of the Caribbean: On Stranger Tides'], dtype=object)"
      ]
     },
     "execution_count": 99,
     "metadata": {},
     "output_type": "execute_result"
    }
   ],
   "source": [
    "movie[movie.budget == movie.budget.max()].original_title.unique()"
   ]
  },
  {
   "cell_type": "markdown",
   "metadata": {},
   "source": [
    "# 2. Какой из фильмов самый длительный (в минутах)?"
   ]
  },
  {
   "cell_type": "code",
   "execution_count": 139,
   "metadata": {},
   "outputs": [],
   "source": [
    "answers['2'] = 'Gods and Generals' # '+'"
   ]
  },
  {
   "cell_type": "code",
   "execution_count": null,
   "metadata": {},
   "outputs": [],
   "source": [
    "movie[movie.runtime == movie.runtime.max()].original_title.unique()"
   ]
  },
  {
   "cell_type": "markdown",
   "metadata": {},
   "source": [
    "# 3. Какой из фильмов самый короткий (в минутах)?"
   ]
  },
  {
   "cell_type": "code",
   "execution_count": 140,
   "metadata": {},
   "outputs": [],
   "source": [
    "answers['3'] = 'Winnie the Pooh' # '+'"
   ]
  },
  {
   "cell_type": "code",
   "execution_count": 100,
   "metadata": {},
   "outputs": [
    {
     "data": {
      "text/plain": [
       "array(['Winnie the Pooh'], dtype=object)"
      ]
     },
     "execution_count": 100,
     "metadata": {},
     "output_type": "execute_result"
    }
   ],
   "source": [
    "movie[movie.runtime == movie.runtime.min()].original_title.unique()"
   ]
  },
  {
   "cell_type": "markdown",
   "metadata": {},
   "source": [
    "# 4. Какова средняя длительность фильмов?"
   ]
  },
  {
   "cell_type": "code",
   "execution_count": 141,
   "metadata": {},
   "outputs": [],
   "source": [
    "answers['4'] = '110' # '+'"
   ]
  },
  {
   "cell_type": "code",
   "execution_count": 102,
   "metadata": {},
   "outputs": [
    {
     "data": {
      "text/plain": [
       "110"
      ]
     },
     "execution_count": 102,
     "metadata": {},
     "output_type": "execute_result"
    }
   ],
   "source": [
    "round(movie.runtime.mean())"
   ]
  },
  {
   "cell_type": "markdown",
   "metadata": {},
   "source": [
    "# 5. Каково медианное значение длительности фильмов? "
   ]
  },
  {
   "cell_type": "code",
   "execution_count": 142,
   "metadata": {},
   "outputs": [],
   "source": [
    "answers['5'] = '107' # '+'"
   ]
  },
  {
   "cell_type": "code",
   "execution_count": 105,
   "metadata": {},
   "outputs": [
    {
     "data": {
      "text/plain": [
       "107"
      ]
     },
     "execution_count": 105,
     "metadata": {},
     "output_type": "execute_result"
    }
   ],
   "source": [
    "round(movie.runtime.median())"
   ]
  },
  {
   "cell_type": "markdown",
   "metadata": {},
   "source": [
    "# 6. Какой самый прибыльный фильм?"
   ]
  },
  {
   "cell_type": "code",
   "execution_count": 143,
   "metadata": {},
   "outputs": [],
   "source": [
    "answers['6'] = 'Avatar' # '+'"
   ]
  },
  {
   "cell_type": "code",
   "execution_count": 109,
   "metadata": {},
   "outputs": [
    {
     "data": {
      "text/plain": [
       "array(['Avatar'], dtype=object)"
      ]
     },
     "execution_count": 109,
     "metadata": {},
     "output_type": "execute_result"
    }
   ],
   "source": [
    "movie[movie['profit'] == movie['profit'].max()].original_title.unique()"
   ]
  },
  {
   "cell_type": "markdown",
   "metadata": {},
   "source": [
    "# 7. Какой фильм самый убыточный?"
   ]
  },
  {
   "cell_type": "code",
   "execution_count": 144,
   "metadata": {},
   "outputs": [],
   "source": [
    "answers['7'] = 'The Lone Ranger' # '+'"
   ]
  },
  {
   "cell_type": "code",
   "execution_count": 111,
   "metadata": {},
   "outputs": [
    {
     "data": {
      "text/plain": [
       "array(['The Lone Ranger'], dtype=object)"
      ]
     },
     "execution_count": 111,
     "metadata": {},
     "output_type": "execute_result"
    }
   ],
   "source": [
    "movie[movie['profit'] == movie['profit'].min()].original_title.unique()"
   ]
  },
  {
   "cell_type": "markdown",
   "metadata": {},
   "source": [
    "# 8. У скольких фильмов из датасета объем сборов оказался выше бюджета?"
   ]
  },
  {
   "cell_type": "code",
   "execution_count": 145,
   "metadata": {},
   "outputs": [],
   "source": [
    "answers['8'] = '1478' # '+'"
   ]
  },
  {
   "cell_type": "code",
   "execution_count": 113,
   "metadata": {},
   "outputs": [
    {
     "data": {
      "text/plain": [
       "1478"
      ]
     },
     "execution_count": 113,
     "metadata": {},
     "output_type": "execute_result"
    }
   ],
   "source": [
    "len(movie[movie['revenue'] > movie['budget']].value_counts())"
   ]
  },
  {
   "cell_type": "markdown",
   "metadata": {},
   "source": [
    "# 9. Какой фильм оказался самым кассовым в 2008 году?"
   ]
  },
  {
   "cell_type": "code",
   "execution_count": 146,
   "metadata": {},
   "outputs": [],
   "source": [
    "answers['9'] = 'The Dark Knight' # '+'"
   ]
  },
  {
   "cell_type": "code",
   "execution_count": 115,
   "metadata": {},
   "outputs": [
    {
     "data": {
      "text/plain": [
       "array(['The Dark Knight'], dtype=object)"
      ]
     },
     "execution_count": 115,
     "metadata": {},
     "output_type": "execute_result"
    }
   ],
   "source": [
    "max_release = movie[(movie['release_year'] == 2008)].revenue.max()\n",
    "movie[(movie.revenue == max_release) & (movie['release_year'] == 2008)].original_title.unique()"
   ]
  },
  {
   "cell_type": "markdown",
   "metadata": {},
   "source": [
    "# 10. Самый убыточный фильм за период с 2012 по 2014 г. (включительно)?"
   ]
  },
  {
   "cell_type": "code",
   "execution_count": 147,
   "metadata": {},
   "outputs": [],
   "source": [
    "answers['10'] = 'The Lone Ranger' # '-'"
   ]
  },
  {
   "cell_type": "code",
   "execution_count": 166,
   "metadata": {},
   "outputs": [
    {
     "data": {
      "text/plain": [
       "array(['The Lone Ranger'], dtype=object)"
      ]
     },
     "execution_count": 166,
     "metadata": {},
     "output_type": "execute_result"
    }
   ],
   "source": [
    "movie_years = movie.query('release_year in [\"2012\", \"2013\", \"2014\"]')\n",
    "profit_min = movie_years[(movie_years.profit == movie_years.profit.min())].original_title.unique()\n",
    "profit_min"
   ]
  },
  {
   "cell_type": "markdown",
   "metadata": {},
   "source": [
    "# 11. Какого жанра фильмов больше всего?"
   ]
  },
  {
   "cell_type": "code",
   "execution_count": 148,
   "metadata": {},
   "outputs": [],
   "source": [
    "answers['11'] = 'Drama' # '+'"
   ]
  },
  {
   "cell_type": "code",
   "execution_count": 118,
   "metadata": {},
   "outputs": [
    {
     "data": {
      "text/plain": [
       "[('Drama', 782)]"
      ]
     },
     "execution_count": 118,
     "metadata": {},
     "output_type": "execute_result"
    }
   ],
   "source": [
    "movie['all_genres'] = splitstring(movie['genres'])\n",
    "all_genres = Counter(movie['all_genres'].sum()).most_common(1)# метод most_common([n]) - возвращает n наиболее \n",
    "                                                              #часто встречающихся элементов, в порядке убывания\n",
    "all_genres"
   ]
  },
  {
   "cell_type": "markdown",
   "metadata": {},
   "source": [
    "ВАРИАНТ 2"
   ]
  },
  {
   "cell_type": "code",
   "execution_count": 119,
   "metadata": {},
   "outputs": [
    {
     "data": {
      "text/plain": [
       "[('Drama', 782)]"
      ]
     },
     "execution_count": 119,
     "metadata": {},
     "output_type": "execute_result"
    }
   ],
   "source": [
    "max_genres = Counter(movie.genres.str.split('|').sum()).most_common(1)\n",
    "max_genres"
   ]
  },
  {
   "cell_type": "markdown",
   "metadata": {},
   "source": [
    "# 12. Фильмы какого жанра чаще всего становятся прибыльными?"
   ]
  },
  {
   "cell_type": "code",
   "execution_count": 149,
   "metadata": {},
   "outputs": [],
   "source": [
    "answers['12'] = 'Drama' # '+'"
   ]
  },
  {
   "cell_type": "code",
   "execution_count": 121,
   "metadata": {},
   "outputs": [
    {
     "data": {
      "text/plain": [
       "[('Drama', 560)]"
      ]
     },
     "execution_count": 121,
     "metadata": {},
     "output_type": "execute_result"
    }
   ],
   "source": [
    "profit_movies = movie.copy() #здесь и далее делаем копию основного датафрейма, чтобы можно было восставновить первоначальные данные\n",
    "profit_movies = movie.query('profit > 0')\n",
    "max_profit = Counter(profit_movies.genres.str.split('|').sum()).most_common(1) \n",
    "max_profit"
   ]
  },
  {
   "cell_type": "markdown",
   "metadata": {},
   "source": [
    "# 13. У какого режиссера самые большие суммарные кассовые сборы?"
   ]
  },
  {
   "cell_type": "code",
   "execution_count": 150,
   "metadata": {},
   "outputs": [],
   "source": [
    "answers['13'] = 'Peter Jackson' # '+'"
   ]
  },
  {
   "cell_type": "code",
   "execution_count": 123,
   "metadata": {},
   "outputs": [
    {
     "data": {
      "text/plain": [
       "director\n",
       "Peter Jackson    6490593685\n",
       "Name: revenue, dtype: int64"
      ]
     },
     "execution_count": 123,
     "metadata": {},
     "output_type": "execute_result"
    }
   ],
   "source": [
    "max_director = movie.groupby(['director'])['revenue'].sum().sort_values(ascending=False)\n",
    "max_director.head(1)"
   ]
  },
  {
   "cell_type": "markdown",
   "metadata": {},
   "source": [
    "# 14. Какой режисер снял больше всего фильмов в стиле Action?"
   ]
  },
  {
   "cell_type": "code",
   "execution_count": 151,
   "metadata": {},
   "outputs": [],
   "source": [
    "answers['14'] = 'Robert Rodriguez' # '+'"
   ]
  },
  {
   "cell_type": "code",
   "execution_count": 43,
   "metadata": {},
   "outputs": [
    {
     "data": {
      "text/plain": [
       "[('Robert Rodriguez', 9)]"
      ]
     },
     "execution_count": 43,
     "metadata": {},
     "output_type": "execute_result"
    }
   ],
   "source": [
    "action_movie = movie.copy()\n",
    "action_movie = action_movie[action_movie.genres.str.contains(\"Action\", na=False)]\n",
    "action_movie['all_director'] = splitstring(action_movie['director'])\n",
    "action_director = Counter(action_movie.all_director.sum()).most_common(1)\n",
    "action_director"
   ]
  },
  {
   "cell_type": "markdown",
   "metadata": {},
   "source": [
    "# 15. Фильмы с каким актером принесли самые высокие кассовые сборы в 2012 году?"
   ]
  },
  {
   "cell_type": "code",
   "execution_count": 152,
   "metadata": {},
   "outputs": [],
   "source": [
    "answers['15'] = 'Chris Hemsworth' # '+'"
   ]
  },
  {
   "cell_type": "code",
   "execution_count": 49,
   "metadata": {},
   "outputs": [
    {
     "data": {
      "text/plain": [
       "array(['Robert Downey Jr.', 'Chris Evans', 'Mark Ruffalo',\n",
       "       'Chris Hemsworth', 'Scarlett Johansson'], dtype=object)"
      ]
     },
     "execution_count": 49,
     "metadata": {},
     "output_type": "execute_result"
    }
   ],
   "source": [
    "movie2012 = movie.copy()\n",
    "movie2012 = movie2012.query('release_year == 2012')\n",
    "movie2012['all_actor'] = splitstring(movie2012['cast'])\n",
    "movie2012_explode = movie2012.explode('all_actor') # DataFrame.explode(self, column: Union[str, Tuple]) - разбивает серию на строки, \n",
    "                                                   #при этом реплицируя (дублируя) строку и ее индекс\n",
    "max_revenue = movie2012_explode[(movie2012_explode.revenue == movie2012_explode.revenue.max())].all_actor.unique()\n",
    "max_revenue"
   ]
  },
  {
   "cell_type": "markdown",
   "metadata": {},
   "source": [
    "# 16. Какой актер снялся в большем количестве высокобюджетных фильмов?"
   ]
  },
  {
   "cell_type": "code",
   "execution_count": 153,
   "metadata": {},
   "outputs": [],
   "source": [
    "answers['16'] = 'Matt Damon' # '+'"
   ]
  },
  {
   "cell_type": "code",
   "execution_count": 52,
   "metadata": {},
   "outputs": [
    {
     "data": {
      "text/plain": [
       "[('Matt Damon', 18)]"
      ]
     },
     "execution_count": 52,
     "metadata": {},
     "output_type": "execute_result"
    }
   ],
   "source": [
    "mov_high_budget = movie.copy()\n",
    "mov_high_budget = mov_high_budget.query('budget > budget.mean()')\n",
    "mov_high_budget = Counter(splitstring(mov_high_budget['cast']).sum()).most_common(1)\n",
    "mov_high_budget"
   ]
  },
  {
   "cell_type": "markdown",
   "metadata": {},
   "source": [
    "# 17. В фильмах какого жанра больше всего снимался Nicolas Cage?"
   ]
  },
  {
   "cell_type": "code",
   "execution_count": 154,
   "metadata": {},
   "outputs": [],
   "source": [
    "answers['17'] = 'Action' # '+'"
   ]
  },
  {
   "cell_type": "code",
   "execution_count": 55,
   "metadata": {},
   "outputs": [
    {
     "data": {
      "text/plain": [
       "[('Action', 17)]"
      ]
     },
     "execution_count": 55,
     "metadata": {},
     "output_type": "execute_result"
    }
   ],
   "source": [
    "movie_cage = movie.copy()\n",
    "movie_cage_only = movie_cage[movie_cage['cast'].str.contains(\"Nicolas Cage\", na = False)]\n",
    "genres_cage = Counter(splitstring(movie_cage_only['genres']).sum()).most_common(1)\n",
    "genres_cage"
   ]
  },
  {
   "cell_type": "markdown",
   "metadata": {},
   "source": [
    "# 18. Самый убыточный фильм от Paramount Pictures"
   ]
  },
  {
   "cell_type": "code",
   "execution_count": 155,
   "metadata": {},
   "outputs": [],
   "source": [
    "answers['18'] = 'K-19: The Widowmaker' # '+'"
   ]
  },
  {
   "cell_type": "code",
   "execution_count": 60,
   "metadata": {},
   "outputs": [
    {
     "data": {
      "text/plain": [
       "array(['K-19: The Widowmaker'], dtype=object)"
      ]
     },
     "execution_count": 60,
     "metadata": {},
     "output_type": "execute_result"
    }
   ],
   "source": [
    "production = movie.copy()\n",
    "production = production[production['production_companies'].str.contains(\"Paramount Pictures\", na = False)]\n",
    "min_profit = production[production.profit == production.profit.min()].original_title.unique()\n",
    "min_profit"
   ]
  },
  {
   "cell_type": "markdown",
   "metadata": {},
   "source": [
    "ВАРИАНТ 2"
   ]
  },
  {
   "cell_type": "code",
   "execution_count": 62,
   "metadata": {},
   "outputs": [
    {
     "data": {
      "text/plain": [
       "original_title\n",
       "K-19: The Widowmaker   -64831034\n",
       "Name: profit, dtype: int64"
      ]
     },
     "execution_count": 62,
     "metadata": {},
     "output_type": "execute_result"
    }
   ],
   "source": [
    "production = movie.copy()\n",
    "production = production[production['production_companies'].str.contains(\"Paramount Pictures\", na = False)]\n",
    "profit_min = production.groupby(['original_title'])['profit'].sum().sort_values(ascending=True)\n",
    "profit_min.head(1)"
   ]
  },
  {
   "cell_type": "markdown",
   "metadata": {},
   "source": [
    "# 19. Какой год стал самым успешным по суммарным кассовым сборам?"
   ]
  },
  {
   "cell_type": "code",
   "execution_count": 156,
   "metadata": {},
   "outputs": [],
   "source": [
    "answers['19'] = '2015' # '+'"
   ]
  },
  {
   "cell_type": "code",
   "execution_count": 64,
   "metadata": {},
   "outputs": [
    {
     "data": {
      "text/plain": [
       "release_year\n",
       "2015    25449202382\n",
       "Name: revenue, dtype: int64"
      ]
     },
     "execution_count": 64,
     "metadata": {},
     "output_type": "execute_result"
    }
   ],
   "source": [
    "revenue_year = movie.copy()\n",
    "revenue_year = revenue_year.groupby(['release_year'])['revenue'].sum().sort_values(ascending=False)\n",
    "revenue_year.head(1)"
   ]
  },
  {
   "cell_type": "markdown",
   "metadata": {},
   "source": [
    "# 20. Какой самый прибыльный год для студии Warner Bros?"
   ]
  },
  {
   "cell_type": "code",
   "execution_count": 157,
   "metadata": {},
   "outputs": [],
   "source": [
    "answers['20'] = '2014' # '+'"
   ]
  },
  {
   "cell_type": "code",
   "execution_count": 67,
   "metadata": {},
   "outputs": [
    {
     "data": {
      "text/plain": [
       "release_year\n",
       "2014    2295464519\n",
       "Name: profit, dtype: int64"
      ]
     },
     "execution_count": 67,
     "metadata": {},
     "output_type": "execute_result"
    }
   ],
   "source": [
    "revenue_warn = movie.copy()\n",
    "revenue_warn = revenue_warn[revenue_warn['production_companies'].str.contains(\"Warner Bros\", na = False)]\n",
    "max_profit_warn = revenue_warn.groupby(['release_year'])['profit'].sum().sort_values(ascending=False)\n",
    "max_profit_warn.head(1)"
   ]
  },
  {
   "cell_type": "markdown",
   "metadata": {},
   "source": [
    "# 21. В каком месяце за все годы суммарно вышло больше всего фильмов?"
   ]
  },
  {
   "cell_type": "code",
   "execution_count": 158,
   "metadata": {},
   "outputs": [],
   "source": [
    "answers['21'] = 'Сентябрь' # '+'"
   ]
  },
  {
   "cell_type": "code",
   "execution_count": 72,
   "metadata": {},
   "outputs": [
    {
     "data": {
      "text/plain": [
       "9    227\n",
       "Name: release_date, dtype: int64"
      ]
     },
     "execution_count": 72,
     "metadata": {},
     "output_type": "execute_result"
    }
   ],
   "source": [
    "release_month = movie['release_date'].value_counts()\n",
    "release_month.head(1)"
   ]
  },
  {
   "cell_type": "markdown",
   "metadata": {},
   "source": [
    "# 22. Сколько суммарно вышло фильмов летом? (за июнь, июль, август)\n"
   ]
  },
  {
   "cell_type": "code",
   "execution_count": 159,
   "metadata": {},
   "outputs": [],
   "source": [
    "answers['22'] = '450' # '+'"
   ]
  },
  {
   "cell_type": "code",
   "execution_count": 74,
   "metadata": {},
   "outputs": [
    {
     "data": {
      "text/plain": [
       "450"
      ]
     },
     "execution_count": 74,
     "metadata": {},
     "output_type": "execute_result"
    }
   ],
   "source": [
    "release_month = movie['release_date'].value_counts()\n",
    "release_summer = release_month[6] + release_month[7] + release_month[8]\n",
    "release_summer"
   ]
  },
  {
   "cell_type": "markdown",
   "metadata": {},
   "source": [
    "# 23. Для какого режиссера зима – самое продуктивное время года?"
   ]
  },
  {
   "cell_type": "code",
   "execution_count": 160,
   "metadata": {},
   "outputs": [],
   "source": [
    "answers['23'] = 'Peter Jackson' # '+'"
   ]
  },
  {
   "cell_type": "code",
   "execution_count": 79,
   "metadata": {},
   "outputs": [
    {
     "data": {
      "text/plain": [
       "[('Peter Jackson', 7), ('Clint Eastwood', 6), ('Steven Soderbergh', 6)]"
      ]
     },
     "execution_count": 79,
     "metadata": {},
     "output_type": "execute_result"
    }
   ],
   "source": [
    "movie_winter = movie.query('release_date in[1, 2, 12]')\n",
    "director_winter = Counter(splitstring(movie_winter['director']).sum()).most_common(3)\n",
    "director_winter"
   ]
  },
  {
   "cell_type": "markdown",
   "metadata": {},
   "source": [
    "# 24. Какая студия дает самые длинные названия своим фильмам по количеству символов?"
   ]
  },
  {
   "cell_type": "code",
   "execution_count": 161,
   "metadata": {},
   "outputs": [],
   "source": [
    "answers['24'] = 'Four By Two Productions' # '+'"
   ]
  },
  {
   "cell_type": "code",
   "execution_count": 81,
   "metadata": {},
   "outputs": [
    {
     "data": {
      "text/plain": [
       "array(['Twentieth Century Fox Film Corporation|Four By Two Productions'],\n",
       "      dtype=object)"
      ]
     },
     "execution_count": 81,
     "metadata": {},
     "output_type": "execute_result"
    }
   ],
   "source": [
    "movie_title = movie.copy()\n",
    "movie_title['len_title'] = movie_title.original_title.str.len()\n",
    "movie_title[(movie_title['len_title'] == movie_title.len_title.max())].production_companies.unique()"
   ]
  },
  {
   "cell_type": "markdown",
   "metadata": {},
   "source": [
    "# 25. Описание фильмов какой студии в среднем самые длинные по количеству слов?"
   ]
  },
  {
   "cell_type": "code",
   "execution_count": 162,
   "metadata": {},
   "outputs": [],
   "source": [
    "answers['25'] = 'Midnight Picture Show' # '+'"
   ]
  },
  {
   "cell_type": "code",
   "execution_count": 83,
   "metadata": {},
   "outputs": [
    {
     "data": {
      "text/plain": [
       "array(['Lions Gate Films|Lakeshore Entertainment|GreeneStreet Films|Midnight Picture Show'],\n",
       "      dtype=object)"
      ]
     },
     "execution_count": 83,
     "metadata": {},
     "output_type": "execute_result"
    }
   ],
   "source": [
    "movie_overview = movie.copy()\n",
    "movie_overview['totalwords'] = movie_overview['overview'].str.split().str.len()\n",
    "movie_overview[(movie_overview['totalwords'] == movie_overview.totalwords.max())].production_companies.unique()"
   ]
  },
  {
   "cell_type": "markdown",
   "metadata": {},
   "source": [
    "# 26. Какие фильмы входят в 1 процент лучших по рейтингу?"
   ]
  },
  {
   "cell_type": "code",
   "execution_count": 163,
   "metadata": {},
   "outputs": [],
   "source": [
    "answers['26'] = 'Inside Out, The Dark Knight, 12 Years a Slave' # '+'"
   ]
  },
  {
   "cell_type": "code",
   "execution_count": 85,
   "metadata": {},
   "outputs": [
    {
     "data": {
      "text/plain": [
       "original_title\n",
       "The Dark Knight                                  8.1\n",
       "The Imitation Game                               8.0\n",
       "Room                                             8.0\n",
       "Interstellar                                     8.0\n",
       "Inside Out                                       8.0\n",
       "The Wolf of Wall Street                          7.9\n",
       "The Pianist                                      7.9\n",
       "The Lord of the Rings: The Return of the King    7.9\n",
       "The Grand Budapest Hotel                         7.9\n",
       "Memento                                          7.9\n",
       "Inception                                        7.9\n",
       "Guardians of the Galaxy                          7.9\n",
       "Gone Girl                                        7.9\n",
       "12 Years a Slave                                 7.9\n",
       "Name: vote_average, dtype: float64"
      ]
     },
     "execution_count": 85,
     "metadata": {},
     "output_type": "execute_result"
    }
   ],
   "source": [
    "movie_raiting = movie.copy()\n",
    "raiting_1per = movie_raiting[(movie_raiting.vote_average > (np.percentile(movie_raiting['vote_average'], 99)))]\n",
    "vote_1per = raiting_1per.groupby(['original_title'])['vote_average'].max().sort_values(ascending=False)\n",
    "vote_1per"
   ]
  },
  {
   "cell_type": "markdown",
   "metadata": {},
   "source": [
    "# 27. Какие актеры чаще всего снимаются в одном фильме вместе?"
   ]
  },
  {
   "cell_type": "code",
   "execution_count": 164,
   "metadata": {},
   "outputs": [],
   "source": [
    "answers['27'] = 'Daniel Radcliffe & Rupert Grint' # '+'"
   ]
  },
  {
   "cell_type": "code",
   "execution_count": 94,
   "metadata": {},
   "outputs": [
    {
     "data": {
      "text/plain": [
       "(Daniel Radcliffe, Rupert Grint)                  8\n",
       "(Daniel Radcliffe, Emma Watson)                   8\n",
       "(Rupert Grint, Emma Watson)                       7\n",
       "(Ben Stiller, Owen Wilson)                        6\n",
       "(Johnny Depp, Helena Bonham Carter)               6\n",
       "                                                 ..\n",
       "(Dwayne Johnson, Chris Marquette)                 1\n",
       "(Jake Gyllenhaal, Melissa Leo)                    1\n",
       "(Christopher Mintz-Plasse, Bobb'e J. Thompson)    1\n",
       "(Skandar Keynes, Liam Neeson)                     1\n",
       "(Eddie Murphy, Clifton Powell)                    1\n",
       "Name: all_actors_couple, Length: 18121, dtype: int64"
      ]
     },
     "execution_count": 94,
     "metadata": {},
     "output_type": "execute_result"
    }
   ],
   "source": [
    "movie_cast = movie.copy()\n",
    "movie_cast['all_actors'] = splitstring(movie_cast['cast'])\n",
    "movie_cast['all_actors_couple'] = movie_cast.all_actors.apply(lambda x: list(combinations(x, 2)))\n",
    "actors_couple = movie_cast.explode('all_actors_couple')\n",
    "action_couple_top = (actors_couple.all_actors_couple).value_counts()\n",
    "action_couple_top"
   ]
  },
  {
   "cell_type": "code",
   "execution_count": 167,
   "metadata": {},
   "outputs": [
    {
     "data": {
      "text/plain": [
       "{'7': 'The Lone Ranger',\n",
       " '8': '1478',\n",
       " '9': 'The Dark Knight',\n",
       " '11': 'Drama',\n",
       " '10': 'The Dark Knight',\n",
       " '12': 'Drama',\n",
       " '13': 'Peter Jackson',\n",
       " '14': 'Robert Rodriguez',\n",
       " '15': 'Chris Hemsworth',\n",
       " '16': 'Matt Damon',\n",
       " '17': 'Action',\n",
       " '18': 'K-19: The Widowmaker',\n",
       " '1': 'Pirates of the Caribbean: On Stranger Tides',\n",
       " '2': 'Gods and Generals',\n",
       " '3': 'Winnie the Pooh',\n",
       " '4': '110',\n",
       " '5': '107',\n",
       " '6': 'Avatar',\n",
       " '19': '2015',\n",
       " '20': '2014',\n",
       " '21': 'Сентябрь',\n",
       " '22': '450',\n",
       " '23': 'Peter Jackson',\n",
       " '24': 'Four By Two Productions',\n",
       " '25': 'Midnight Picture Show',\n",
       " '26': 'Inside Out, The Dark Knight, 12 Years a Slave',\n",
       " '27': 'Daniel Radcliffe & Rupert Grint'}"
      ]
     },
     "execution_count": 167,
     "metadata": {},
     "output_type": "execute_result"
    }
   ],
   "source": [
    "answers"
   ]
  },
  {
   "cell_type": "code",
   "execution_count": 168,
   "metadata": {},
   "outputs": [
    {
     "data": {
      "text/plain": [
       "27"
      ]
     },
     "execution_count": 168,
     "metadata": {},
     "output_type": "execute_result"
    }
   ],
   "source": [
    "len(answers)"
   ]
  },
  {
   "cell_type": "code",
   "execution_count": null,
   "metadata": {},
   "outputs": [],
   "source": []
  }
 ],
 "metadata": {
  "kernelspec": {
   "display_name": "Python 3",
   "language": "python",
   "name": "python3"
  },
  "language_info": {
   "codemirror_mode": {
    "name": "ipython",
    "version": 3
   },
   "file_extension": ".py",
   "mimetype": "text/x-python",
   "name": "python",
   "nbconvert_exporter": "python",
   "pygments_lexer": "ipython3",
   "version": "3.8.5"
  }
 },
 "nbformat": 4,
 "nbformat_minor": 4
}
