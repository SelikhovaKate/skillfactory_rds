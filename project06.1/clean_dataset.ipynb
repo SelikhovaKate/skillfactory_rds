{
 "cells": [
  {
   "cell_type": "code",
   "execution_count": 30,
   "metadata": {},
   "outputs": [],
   "source": [
    "import pandas as pd\n",
    "import numpy as np\n",
    "import matplotlib.pyplot as plt\n",
    "from matplotlib import style\n",
    "%matplotlib inline\n",
    "import seaborn as sns\n",
    "\n",
    "from sklearn.preprocessing import MultiLabelBinarizer"
   ]
  },
  {
   "cell_type": "code",
   "execution_count": 33,
   "metadata": {},
   "outputs": [
    {
     "data": {
      "text/html": [
       "<div>\n",
       "<style scoped>\n",
       "    .dataframe tbody tr th:only-of-type {\n",
       "        vertical-align: middle;\n",
       "    }\n",
       "\n",
       "    .dataframe tbody tr th {\n",
       "        vertical-align: top;\n",
       "    }\n",
       "\n",
       "    .dataframe thead th {\n",
       "        text-align: right;\n",
       "    }\n",
       "</style>\n",
       "<table border=\"1\" class=\"dataframe\">\n",
       "  <thead>\n",
       "    <tr style=\"text-align: right;\">\n",
       "      <th></th>\n",
       "      <th>Unnamed: 0</th>\n",
       "      <th>bodyType</th>\n",
       "      <th>brand</th>\n",
       "      <th>car_url</th>\n",
       "      <th>color</th>\n",
       "      <th>description</th>\n",
       "      <th>engineDisplacement</th>\n",
       "      <th>enginePower</th>\n",
       "      <th>equipment_dict</th>\n",
       "      <th>fuelType</th>\n",
       "      <th>...</th>\n",
       "      <th>vehicleConfiguration</th>\n",
       "      <th>vehicleTransmission</th>\n",
       "      <th>vendor</th>\n",
       "      <th>Владельцы</th>\n",
       "      <th>ПТС</th>\n",
       "      <th>Привод</th>\n",
       "      <th>Руль</th>\n",
       "      <th>Состояние</th>\n",
       "      <th>Таможня</th>\n",
       "      <th>price</th>\n",
       "    </tr>\n",
       "  </thead>\n",
       "  <tbody>\n",
       "    <tr>\n",
       "      <th>0</th>\n",
       "      <td>0</td>\n",
       "      <td>лифтбек</td>\n",
       "      <td>SKODA</td>\n",
       "      <td>https://auto.ru/cars/used/sale/skoda/octavia/1...</td>\n",
       "      <td>белый</td>\n",
       "      <td>Машина в отличном состоянии🥇\\nКомплектация Ele...</td>\n",
       "      <td>1.8 LTR</td>\n",
       "      <td>152 N12</td>\n",
       "      <td>{'cruise-control': True, 'tinted-glass': True,...</td>\n",
       "      <td>бензин</td>\n",
       "      <td>...</td>\n",
       "      <td>LIFTBACK AUTOMATIC 1.8</td>\n",
       "      <td>автоматическая</td>\n",
       "      <td>EUROPEAN</td>\n",
       "      <td>2.0</td>\n",
       "      <td>DUPLICATE</td>\n",
       "      <td>FORWARD_CONTROL</td>\n",
       "      <td>LEFT</td>\n",
       "      <td>True</td>\n",
       "      <td>True</td>\n",
       "      <td>829000.0</td>\n",
       "    </tr>\n",
       "    <tr>\n",
       "      <th>1</th>\n",
       "      <td>1</td>\n",
       "      <td>лифтбек</td>\n",
       "      <td>SKODA</td>\n",
       "      <td>https://auto.ru/cars/used/sale/skoda/octavia/1...</td>\n",
       "      <td>бежевый</td>\n",
       "      <td>Хорошее техническое и косметическое\\nсостояние...</td>\n",
       "      <td>1.8 LTR</td>\n",
       "      <td>152 N12</td>\n",
       "      <td>{'cruise-control': True, 'esp': True, 'adaptiv...</td>\n",
       "      <td>бензин</td>\n",
       "      <td>...</td>\n",
       "      <td>LIFTBACK AUTOMATIC 1.8</td>\n",
       "      <td>автоматическая</td>\n",
       "      <td>EUROPEAN</td>\n",
       "      <td>3.0</td>\n",
       "      <td>ORIGINAL</td>\n",
       "      <td>FORWARD_CONTROL</td>\n",
       "      <td>LEFT</td>\n",
       "      <td>True</td>\n",
       "      <td>True</td>\n",
       "      <td>785000.0</td>\n",
       "    </tr>\n",
       "    <tr>\n",
       "      <th>2</th>\n",
       "      <td>2</td>\n",
       "      <td>внедорожник 5 дв.</td>\n",
       "      <td>SKODA</td>\n",
       "      <td>https://auto.ru/cars/used/sale/skoda/yeti/1105...</td>\n",
       "      <td>пурпурный</td>\n",
       "      <td>Идеальное состояние автомобиля\\nДилер Краснояр...</td>\n",
       "      <td>1.2 LTR</td>\n",
       "      <td>105 N12</td>\n",
       "      <td>{'computer': True, 'ptf': True, 'rain-sensor':...</td>\n",
       "      <td>бензин</td>\n",
       "      <td>...</td>\n",
       "      <td>ALLROAD_5_DOORS ROBOT 1.2</td>\n",
       "      <td>роботизированная</td>\n",
       "      <td>EUROPEAN</td>\n",
       "      <td>1.0</td>\n",
       "      <td>ORIGINAL</td>\n",
       "      <td>FORWARD_CONTROL</td>\n",
       "      <td>LEFT</td>\n",
       "      <td>True</td>\n",
       "      <td>True</td>\n",
       "      <td>745000.0</td>\n",
       "    </tr>\n",
       "  </tbody>\n",
       "</table>\n",
       "<p>3 rows × 27 columns</p>\n",
       "</div>"
      ],
      "text/plain": [
       "   Unnamed: 0           bodyType  brand  \\\n",
       "0           0            лифтбек  SKODA   \n",
       "1           1            лифтбек  SKODA   \n",
       "2           2  внедорожник 5 дв.  SKODA   \n",
       "\n",
       "                                             car_url      color  \\\n",
       "0  https://auto.ru/cars/used/sale/skoda/octavia/1...      белый   \n",
       "1  https://auto.ru/cars/used/sale/skoda/octavia/1...    бежевый   \n",
       "2  https://auto.ru/cars/used/sale/skoda/yeti/1105...  пурпурный   \n",
       "\n",
       "                                         description engineDisplacement  \\\n",
       "0  Машина в отличном состоянии🥇\\nКомплектация Ele...            1.8 LTR   \n",
       "1  Хорошее техническое и косметическое\\nсостояние...            1.8 LTR   \n",
       "2  Идеальное состояние автомобиля\\nДилер Краснояр...            1.2 LTR   \n",
       "\n",
       "  enginePower                                     equipment_dict fuelType  \\\n",
       "0     152 N12  {'cruise-control': True, 'tinted-glass': True,...   бензин   \n",
       "1     152 N12  {'cruise-control': True, 'esp': True, 'adaptiv...   бензин   \n",
       "2     105 N12  {'computer': True, 'ptf': True, 'rain-sensor':...   бензин   \n",
       "\n",
       "   ...       vehicleConfiguration  vehicleTransmission    vendor Владельцы  \\\n",
       "0  ...     LIFTBACK AUTOMATIC 1.8       автоматическая  EUROPEAN       2.0   \n",
       "1  ...     LIFTBACK AUTOMATIC 1.8       автоматическая  EUROPEAN       3.0   \n",
       "2  ...  ALLROAD_5_DOORS ROBOT 1.2     роботизированная  EUROPEAN       1.0   \n",
       "\n",
       "         ПТС           Привод  Руль Состояние Таможня     price  \n",
       "0  DUPLICATE  FORWARD_CONTROL  LEFT      True    True  829000.0  \n",
       "1   ORIGINAL  FORWARD_CONTROL  LEFT      True    True  785000.0  \n",
       "2   ORIGINAL  FORWARD_CONTROL  LEFT      True    True  745000.0  \n",
       "\n",
       "[3 rows x 27 columns]"
      ]
     },
     "execution_count": 33,
     "metadata": {},
     "output_type": "execute_result"
    }
   ],
   "source": [
    "all_cars = pd.read_csv('dataset_V2.csv')\n",
    "all_cars.head(3)"
   ]
  },
  {
   "cell_type": "code",
   "execution_count": 34,
   "metadata": {},
   "outputs": [
    {
     "name": "stdout",
     "output_type": "stream",
     "text": [
      "<class 'pandas.core.frame.DataFrame'>\n",
      "RangeIndex: 104663 entries, 0 to 104662\n",
      "Data columns (total 27 columns):\n",
      " #   Column                Non-Null Count   Dtype  \n",
      "---  ------                --------------   -----  \n",
      " 0   Unnamed: 0            104663 non-null  int64  \n",
      " 1   bodyType              104450 non-null  object \n",
      " 2   brand                 104451 non-null  object \n",
      " 3   car_url               104663 non-null  object \n",
      " 4   color                 104451 non-null  object \n",
      " 5   description           104451 non-null  object \n",
      " 6   engineDisplacement    104451 non-null  object \n",
      " 7   enginePower           104451 non-null  object \n",
      " 8   equipment_dict        104449 non-null  object \n",
      " 9   fuelType              104449 non-null  object \n",
      " 10  mileage               104449 non-null  float64\n",
      " 11  modelDate             104450 non-null  float64\n",
      " 12  model_info            97958 non-null   object \n",
      " 13  model_name            104449 non-null  object \n",
      " 14  numberOfDoors         104450 non-null  float64\n",
      " 15  productionDate        104451 non-null  float64\n",
      " 16  super_gen             104448 non-null  object \n",
      " 17  vehicleConfiguration  104450 non-null  object \n",
      " 18  vehicleTransmission   104449 non-null  object \n",
      " 19  vendor                97959 non-null   object \n",
      " 20  Владельцы             104442 non-null  float64\n",
      " 21  ПТС                   104447 non-null  object \n",
      " 22  Привод                104447 non-null  object \n",
      " 23  Руль                  104449 non-null  object \n",
      " 24  Состояние             104430 non-null  object \n",
      " 25  Таможня               104440 non-null  object \n",
      " 26  price                 95913 non-null   float64\n",
      "dtypes: float64(6), int64(1), object(20)\n",
      "memory usage: 21.6+ MB\n"
     ]
    }
   ],
   "source": [
    "all_cars.info()"
   ]
  },
  {
   "cell_type": "markdown",
   "metadata": {},
   "source": [
    "датасет доставточно \"грязный\", проверим на наличие пропусков, уберем лишние данные и преобразуем имеющиеся в формат, пригодный для анализа"
   ]
  },
  {
   "cell_type": "code",
   "execution_count": 35,
   "metadata": {},
   "outputs": [
    {
     "data": {
      "text/plain": [
       "Unnamed: 0                 0\n",
       "bodyType                 213\n",
       "brand                    212\n",
       "car_url                    0\n",
       "color                    212\n",
       "description              212\n",
       "engineDisplacement       212\n",
       "enginePower              212\n",
       "equipment_dict           214\n",
       "fuelType                 214\n",
       "mileage                  214\n",
       "modelDate                213\n",
       "model_info              6705\n",
       "model_name               214\n",
       "numberOfDoors            213\n",
       "productionDate           212\n",
       "super_gen                215\n",
       "vehicleConfiguration     213\n",
       "vehicleTransmission      214\n",
       "vendor                  6704\n",
       "Владельцы                221\n",
       "ПТС                      216\n",
       "Привод                   216\n",
       "Руль                     214\n",
       "Состояние                233\n",
       "Таможня                  223\n",
       "price                   8750\n",
       "dtype: int64"
      ]
     },
     "execution_count": 35,
     "metadata": {},
     "output_type": "execute_result"
    }
   ],
   "source": [
    "all_cars.isnull().sum()"
   ]
  },
  {
   "cell_type": "markdown",
   "metadata": {},
   "source": [
    "пропуски есть практически в каждой колонке, но их сравнительно незначительнное количетсво. Поэтому спокойно их удаляем"
   ]
  },
  {
   "cell_type": "code",
   "execution_count": 37,
   "metadata": {},
   "outputs": [
    {
     "data": {
      "text/plain": [
       "Unnamed: 0              0\n",
       "bodyType                0\n",
       "brand                   0\n",
       "car_url                 0\n",
       "color                   0\n",
       "description             0\n",
       "engineDisplacement      0\n",
       "enginePower             0\n",
       "equipment_dict          0\n",
       "fuelType                0\n",
       "mileage                 0\n",
       "modelDate               0\n",
       "model_info              0\n",
       "model_name              0\n",
       "numberOfDoors           0\n",
       "productionDate          0\n",
       "super_gen               0\n",
       "vehicleConfiguration    0\n",
       "vehicleTransmission     0\n",
       "vendor                  0\n",
       "Владельцы               0\n",
       "ПТС                     0\n",
       "Привод                  0\n",
       "Руль                    0\n",
       "Состояние               0\n",
       "Таможня                 0\n",
       "price                   0\n",
       "dtype: int64"
      ]
     },
     "execution_count": 37,
     "metadata": {},
     "output_type": "execute_result"
    }
   ],
   "source": [
    "all_cars = all_cars.dropna()\n",
    "all_cars.isnull().sum()"
   ]
  },
  {
   "cell_type": "code",
   "execution_count": 38,
   "metadata": {},
   "outputs": [
    {
     "data": {
      "text/plain": [
       "'https://auto.ru/cars/used/sale/skoda/octavia/1105846102-35605d51/'"
      ]
     },
     "execution_count": 38,
     "metadata": {},
     "output_type": "execute_result"
    }
   ],
   "source": [
    "# признак 'car_url' будем ипользовать в качестве идентификатора, извдечем оттуда id объявления\n",
    "all_cars['car_url'][5]"
   ]
  },
  {
   "cell_type": "code",
   "execution_count": 39,
   "metadata": {},
   "outputs": [
    {
     "name": "stderr",
     "output_type": "stream",
     "text": [
      "<ipython-input-39-a395f9173830>:1: UserWarning: Pandas doesn't allow columns to be created via a new attribute name - see https://pandas.pydata.org/pandas-docs/stable/indexing.html#attribute-access\n",
      "  all_cars.url_split = all_cars.car_url.str.split('/')\n"
     ]
    },
    {
     "data": {
      "text/plain": [
       "['https:',\n",
       " '',\n",
       " 'auto.ru',\n",
       " 'cars',\n",
       " 'used',\n",
       " 'sale',\n",
       " 'honda',\n",
       " 'accord',\n",
       " '1105508916-b03d1806',\n",
       " '']"
      ]
     },
     "execution_count": 39,
     "metadata": {},
     "output_type": "execute_result"
    }
   ],
   "source": [
    "all_cars.url_split = all_cars.car_url.str.split('/')\n",
    "all_cars.url_split[15648]"
   ]
  },
  {
   "cell_type": "code",
   "execution_count": 40,
   "metadata": {},
   "outputs": [
    {
     "data": {
      "text/plain": [
       "0         1105765221\n",
       "1         1105672391\n",
       "2         1105201873\n",
       "3         1105607078\n",
       "4         1105561522\n",
       "             ...    \n",
       "104656    1105731924\n",
       "104658    1104571613\n",
       "104659    1105831300\n",
       "104660    1105408230\n",
       "104661    1105396628\n",
       "Name: id_car, Length: 95876, dtype: int64"
      ]
     },
     "execution_count": 40,
     "metadata": {},
     "output_type": "execute_result"
    }
   ],
   "source": [
    "id_car = [power[0:][8] for power in all_cars.url_split]\n",
    "id_car_split = [x.split('-') for x in id_car]\n",
    "all_cars['id_car'] = [q[0] for q in id_car_split]\n",
    "all_cars['id_car'] = pd.to_numeric(all_cars['id_car'])\n",
    "all_cars['id_car']"
   ]
  },
  {
   "cell_type": "code",
   "execution_count": 41,
   "metadata": {},
   "outputs": [
    {
     "data": {
      "text/plain": [
       "False    95114\n",
       "True       762\n",
       "Name: id_car, dtype: int64"
      ]
     },
     "execution_count": 41,
     "metadata": {},
     "output_type": "execute_result"
    }
   ],
   "source": [
    "all_cars['id_car'].duplicated().value_counts()"
   ]
  },
  {
   "cell_type": "markdown",
   "metadata": {},
   "source": [
    "в id объявлений встречаются дубликаты, но их небольшое количетсво, удаляем их"
   ]
  },
  {
   "cell_type": "code",
   "execution_count": 42,
   "metadata": {},
   "outputs": [],
   "source": [
    "all_cars = all_cars.drop_duplicates(subset='id_car', keep=False, inplace=False)"
   ]
  },
  {
   "cell_type": "markdown",
   "metadata": {},
   "source": [
    "рассмотрим признак super_gen, где собраны характеристики автомобиля. бОльшая часть дублируется в других признаках, но здесь есть информация о расходе топлива, что может быть полезной для построения модели. Выделим его в отдельный признак "
   ]
  },
  {
   "cell_type": "code",
   "execution_count": 46,
   "metadata": {},
   "outputs": [
    {
     "data": {
      "text/plain": [
       "\"{'id': '5040501', 'name': 'Scout', 'nameplate': 'Scout', 'displacement': 1798, 'engine_type': 'GASOLINE', 'gear_type': 'ALL_WHEEL_DRIVE', 'transmission': 'MECHANICAL', 'power': 152, 'power_kvt': 112, 'human_name': 'Scout 1.8 MT (152 л.с.) 4WD', 'acceleration': 8.7, 'clearance_min': 179, 'fuel_rate': 7.8}\""
      ]
     },
     "execution_count": 46,
     "metadata": {},
     "output_type": "execute_result"
    }
   ],
   "source": [
    "all_cars[['id_car', 'super_gen']].loc[12][1]"
   ]
  },
  {
   "cell_type": "code",
   "execution_count": 47,
   "metadata": {},
   "outputs": [
    {
     "data": {
      "text/plain": [
       "Index(['2, fuel_rate: 4', 'earance_min: 186', 'fuel_rate: 16.4',\n",
       "       ' fuel_rate: 2.4', 'earance_max: 160', '3.3 MT (75 л.с.)',\n",
       "       'earance_min: 254', 'ectric_range: 50', 'ery_capacity: 17',\n",
       "       'earance_min: 131', 'earance_min: 163', 'earance_max: 184',\n",
       "       'ery_capacity: 38', '6, fuel_rate: 4', 'fuel_rate: 19.4',\n",
       "       'fuel_rate: 19.2', 'fuel_rate: 17.3', 'earance_min: 290',\n",
       "       'y_capacity: 41.4', ' fuel_rate: 3.1'],\n",
       "      dtype='object')"
      ]
     },
     "execution_count": 47,
     "metadata": {},
     "output_type": "execute_result"
    }
   ],
   "source": [
    "all_cars['fuel_rate'] = [rate[-18:] for rate in all_cars['super_gen'] ]\n",
    "all_cars['fuel_rate'] = all_cars['fuel_rate'].str.replace(('}'), '')\n",
    "all_cars['fuel_rate'] = all_cars['fuel_rate'].str.replace((\"'\"), '')\n",
    "all_cars['fuel_rate'] = all_cars['fuel_rate'].str.replace((\"'\"), '')\n",
    "all_cars['fuel_rate'].value_counts(ascending = True).index[:20]"
   ]
  },
  {
   "cell_type": "markdown",
   "metadata": {},
   "source": [
    "как видно, есть данные, которые попали в список случайно. обработаем их"
   ]
  },
  {
   "cell_type": "code",
   "execution_count": 48,
   "metadata": {},
   "outputs": [
    {
     "data": {
      "text/plain": [
       "0         [ fuel_rate,  7.7]\n",
       "1         [ fuel_rate,  7.7]\n",
       "2         [ fuel_rate,  6.4]\n",
       "3         [ fuel_rate,  6.3]\n",
       "4         [ fuel_rate,  7.4]\n",
       "                 ...        \n",
       "104656    [ fuel_rate,  6.8]\n",
       "104658    [fuel_rate,  14.4]\n",
       "104659    [ fuel_rate,  7.8]\n",
       "104660    [ fuel_rate,  9.5]\n",
       "104661                   [w]\n",
       "Name: contain2_split, Length: 94352, dtype: object"
      ]
     },
     "execution_count": 48,
     "metadata": {},
     "output_type": "execute_result"
    }
   ],
   "source": [
    "fuel = []\n",
    "for f  in all_cars['fuel_rate']:\n",
    "    if 'fuel_rate:' in f:\n",
    "        fuel.append(f)\n",
    "    elif 'fuel_rate:' not in f:\n",
    "        fuel.append('w') \n",
    "        \"\"\" вместо пропусков сначала проставим случайное значение,  пусть будет буква w \"\"\"\n",
    "        \n",
    "all_cars['contain2'] = fuel\n",
    "all_cars['contain2_split'] = all_cars['contain2'].str.split(':')\n",
    "all_cars['contain2_split']"
   ]
  },
  {
   "cell_type": "code",
   "execution_count": 49,
   "metadata": {},
   "outputs": [
    {
     "data": {
      "text/plain": [
       "w        6653\n",
       " 7.4     2430\n",
       " 6.7     2293\n",
       " 7.5     2208\n",
       " 7.9     2201\n",
       "         ... \n",
       " 16.2       1\n",
       " 19.2       1\n",
       " 17.3       1\n",
       " 19.4       1\n",
       " 3.1        1\n",
       "Name: rate2, Length: 163, dtype: int64"
      ]
     },
     "execution_count": 49,
     "metadata": {},
     "output_type": "execute_result"
    }
   ],
   "source": [
    "rate2 = []\n",
    "for rate in all_cars['contain2_split']:\n",
    "    if len(rate)> 1:\n",
    "        rate2.append(rate[1])\n",
    "    else:\n",
    "        rate2.append(rate[0])\n",
    "        \n",
    "all_cars['rate2'] = rate2\n",
    "all_cars['rate2'].value_counts()"
   ]
  },
  {
   "cell_type": "markdown",
   "metadata": {},
   "source": [
    "сначала найдем медиану и среднее списка не учитывая пропуски"
   ]
  },
  {
   "cell_type": "code",
   "execution_count": 50,
   "metadata": {},
   "outputs": [
    {
     "name": "stderr",
     "output_type": "stream",
     "text": [
      "<ipython-input-50-31dfc8d30bfc>:2: SettingWithCopyWarning: \n",
      "A value is trying to be set on a copy of a slice from a DataFrame.\n",
      "Try using .loc[row_indexer,col_indexer] = value instead\n",
      "\n",
      "See the caveats in the documentation: https://pandas.pydata.org/pandas-docs/stable/user_guide/indexing.html#returning-a-view-versus-a-copy\n",
      "  rate_w['rate2'] = pd.to_numeric(rate_w['rate2'])\n"
     ]
    }
   ],
   "source": [
    "rate_w = all_cars[~all_cars.rate2.str.match(\"w\", na=False)]\n",
    "rate_w['rate2'] = pd.to_numeric(rate_w['rate2'])"
   ]
  },
  {
   "cell_type": "code",
   "execution_count": 51,
   "metadata": {},
   "outputs": [
    {
     "name": "stdout",
     "output_type": "stream",
     "text": [
      "7.8\n",
      "8.208782312227324\n",
      "0    7.4\n",
      "dtype: float64\n"
     ]
    }
   ],
   "source": [
    "print (rate_w['rate2'].median())\n",
    "print(rate_w['rate2'].mean())\n",
    "print (rate_w['rate2'].mode())"
   ]
  },
  {
   "cell_type": "code",
   "execution_count": 52,
   "metadata": {},
   "outputs": [
    {
     "name": "stdout",
     "output_type": "stream",
     "text": [
      "<class 'pandas.core.frame.DataFrame'>\n",
      "Int64Index: 94352 entries, 0 to 104661\n",
      "Data columns (total 33 columns):\n",
      " #   Column                Non-Null Count  Dtype  \n",
      "---  ------                --------------  -----  \n",
      " 0   Unnamed: 0            94352 non-null  int64  \n",
      " 1   bodyType              94352 non-null  object \n",
      " 2   brand                 94352 non-null  object \n",
      " 3   car_url               94352 non-null  object \n",
      " 4   color                 94352 non-null  object \n",
      " 5   description           94352 non-null  object \n",
      " 6   engineDisplacement    94352 non-null  object \n",
      " 7   enginePower           94352 non-null  object \n",
      " 8   equipment_dict        94352 non-null  object \n",
      " 9   fuelType              94352 non-null  object \n",
      " 10  mileage               94352 non-null  float64\n",
      " 11  modelDate             94352 non-null  float64\n",
      " 12  model_info            94352 non-null  object \n",
      " 13  model_name            94352 non-null  object \n",
      " 14  numberOfDoors         94352 non-null  float64\n",
      " 15  productionDate        94352 non-null  float64\n",
      " 16  super_gen             94352 non-null  object \n",
      " 17  vehicleConfiguration  94352 non-null  object \n",
      " 18  vehicleTransmission   94352 non-null  object \n",
      " 19  vendor                94352 non-null  object \n",
      " 20  Владельцы             94352 non-null  float64\n",
      " 21  ПТС                   94352 non-null  object \n",
      " 22  Привод                94352 non-null  object \n",
      " 23  Руль                  94352 non-null  object \n",
      " 24  Состояние             94352 non-null  object \n",
      " 25  Таможня               94352 non-null  object \n",
      " 26  price                 94352 non-null  float64\n",
      " 27  id_car                94352 non-null  int64  \n",
      " 28  fuel_rate             94352 non-null  object \n",
      " 29  contain2              94352 non-null  object \n",
      " 30  contain2_split        94352 non-null  object \n",
      " 31  rate2                 94352 non-null  object \n",
      " 32  rate_fuel             94352 non-null  float64\n",
      "dtypes: float64(7), int64(2), object(24)\n",
      "memory usage: 27.0+ MB\n"
     ]
    }
   ],
   "source": [
    "# заменим пропуски, которые мы ранее обозначили через 'w' медианой признака, и преобразуем данные в числовой формат\n",
    "all_cars['rate2'] = all_cars['rate2'].str.replace(('w'), '7.8')\n",
    "all_cars['rate_fuel'] = pd.to_numeric(all_cars['rate2'])\n",
    "all_cars.info()"
   ]
  },
  {
   "cell_type": "code",
   "execution_count": 53,
   "metadata": {},
   "outputs": [
    {
     "name": "stdout",
     "output_type": "stream",
     "text": [
      "<class 'pandas.core.frame.DataFrame'>\n",
      "Int64Index: 94352 entries, 0 to 104661\n",
      "Data columns (total 28 columns):\n",
      " #   Column                Non-Null Count  Dtype  \n",
      "---  ------                --------------  -----  \n",
      " 0   bodyType              94352 non-null  object \n",
      " 1   brand                 94352 non-null  object \n",
      " 2   car_url               94352 non-null  object \n",
      " 3   color                 94352 non-null  object \n",
      " 4   description           94352 non-null  object \n",
      " 5   engineDisplacement    94352 non-null  object \n",
      " 6   enginePower           94352 non-null  object \n",
      " 7   equipment_dict        94352 non-null  object \n",
      " 8   fuelType              94352 non-null  object \n",
      " 9   mileage               94352 non-null  float64\n",
      " 10  modelDate             94352 non-null  float64\n",
      " 11  model_info            94352 non-null  object \n",
      " 12  model_name            94352 non-null  object \n",
      " 13  numberOfDoors         94352 non-null  float64\n",
      " 14  productionDate        94352 non-null  float64\n",
      " 15  super_gen             94352 non-null  object \n",
      " 16  vehicleConfiguration  94352 non-null  object \n",
      " 17  vehicleTransmission   94352 non-null  object \n",
      " 18  vendor                94352 non-null  object \n",
      " 19  Владельцы             94352 non-null  float64\n",
      " 20  ПТС                   94352 non-null  object \n",
      " 21  Привод                94352 non-null  object \n",
      " 22  Руль                  94352 non-null  object \n",
      " 23  Состояние             94352 non-null  object \n",
      " 24  Таможня               94352 non-null  object \n",
      " 25  price                 94352 non-null  float64\n",
      " 26  id_car                94352 non-null  int64  \n",
      " 27  rate_fuel             94352 non-null  float64\n",
      "dtypes: float64(7), int64(1), object(20)\n",
      "memory usage: 23.4+ MB\n"
     ]
    }
   ],
   "source": [
    "# удалим лишние признаки\n",
    "all_cars.drop(['fuel_rate', 'contain2', 'contain2_split', 'rate2', 'Unnamed: 0'], axis=1, inplace=True)\n",
    "all_cars.info()"
   ]
  },
  {
   "cell_type": "markdown",
   "metadata": {},
   "source": [
    "сохраним этот датасет для дальнейшей работы и проведения EDA, Feature Engineering и посторения моделей"
   ]
  },
  {
   "cell_type": "code",
   "execution_count": 54,
   "metadata": {},
   "outputs": [],
   "source": [
    "all_cars.to_csv(\"dataset_V2.csv\")"
   ]
  },
  {
   "cell_type": "code",
   "execution_count": null,
   "metadata": {},
   "outputs": [],
   "source": []
  }
 ],
 "metadata": {
  "kernelspec": {
   "display_name": "Python 3",
   "language": "python",
   "name": "python3"
  },
  "language_info": {
   "codemirror_mode": {
    "name": "ipython",
    "version": 3
   },
   "file_extension": ".py",
   "mimetype": "text/x-python",
   "name": "python",
   "nbconvert_exporter": "python",
   "pygments_lexer": "ipython3",
   "version": "3.8.5"
  }
 },
 "nbformat": 4,
 "nbformat_minor": 4
}
